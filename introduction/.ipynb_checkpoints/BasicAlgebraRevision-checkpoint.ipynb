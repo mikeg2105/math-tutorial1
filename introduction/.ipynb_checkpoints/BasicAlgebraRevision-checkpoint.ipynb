{
 "cells": [
  {
   "cell_type": "markdown",
   "metadata": {},
   "source": [
    "# Basic Algebra Revision\n",
    "\n",
    "1. Expressions, equations, variables and constants \n",
    "2. Functions\n",
    "2. Substitution\n",
    "3. Re-arranging an expression\n"
   ]
  },
  {
   "cell_type": "markdown",
   "metadata": {},
   "source": [
    "## Expressions, equations, variables and constants\n",
    "\n",
    "An expression is a collection of numbers, letters and symbols such as \n",
    "+,-,* and division.\n",
    "Example expressions are shown below."
   ]
  },
  {
   "cell_type": "code",
   "execution_count": null,
   "metadata": {},
   "outputs": [],
   "source": [
    "a+5\n",
    "a+b\n",
    "a-x"
   ]
  },
  {
   "cell_type": "raw",
   "metadata": {},
   "source": [
    "Addition"
   ]
  },
  {
   "cell_type": "code",
   "execution_count": null,
   "metadata": {},
   "outputs": [],
   "source": []
  },
  {
   "cell_type": "markdown",
   "metadata": {},
   "source": [
    "The letters in the above expressions are known as variables. When the expression is written as shown above we do not know\n",
    "what number that letter is equal to. \n",
    "\n",
    "We evaluate an equation when we set a variable to a given value for example"
   ]
  },
  {
   "cell_type": "code",
   "execution_count": null,
   "metadata": {},
   "outputs": [],
   "source": [
    "a=1\n",
    "b=2"
   ]
  },
  {
   "cell_type": "markdown",
   "metadata": {},
   "source": [
    "We use substitution to replace the letters in the expression with the value given by the equation.\n",
    "\n",
    "An equation has contains an equals sign and has an expression on each side of the sign. Example expressions are shown below."
   ]
  },
  {
   "cell_type": "code",
   "execution_count": null,
   "metadata": {},
   "outputs": [],
   "source": [
    "b=a+5\n",
    "b=a-x\n",
    "y=5*a-x"
   ]
  },
  {
   "cell_type": "markdown",
   "metadata": {},
   "source": [
    "### Exercise\n",
    "\n",
    "In the examples below which examples are expressions and which examples are equations?\n",
    "1. $$ a+1 $$\n",
    "2. $$ 5*a $$\n",
    "3. $$ a=x+1 $$\n",
    "4. $$ y=x-1 $$\n",
    "5. $$ x+y-5*a $$"
   ]
  },
  {
   "cell_type": "markdown",
   "metadata": {},
   "source": [
    "### Exercise\n",
    "\n",
    "In the examples can you count the number of variables, write each of the variables down?\n",
    "1. $$ a+1 $$\n",
    "2. $$ 5*a $$\n",
    "3. $$ a=x+1 $$\n",
    "4. $$ y=x-1 $$\n",
    "5. $$ x+y-5*a $$"
   ]
  },
  {
   "cell_type": "markdown",
   "metadata": {},
   "source": [
    "## Functions\n",
    "\n",
    "A function is a mathematical expression which when provided with inputs produces an output. We call the inputs the variables\n"
   ]
  },
  {
   "cell_type": "code",
   "execution_count": 52,
   "metadata": {},
   "outputs": [],
   "source": [
    "f(x)=2*x+1\n",
    "g(y)=2*y+1\n",
    "h(x,y)=x+y"
   ]
  },
  {
   "cell_type": "raw",
   "metadata": {},
   "source": [
    "## Substitution\n",
    "\n",
    "### Function of One Variable"
   ]
  },
  {
   "cell_type": "code",
   "execution_count": 38,
   "metadata": {},
   "outputs": [],
   "source": [
    "x=var('x')\n",
    "y=var('y')\n",
    "\n"
   ]
  },
  {
   "cell_type": "code",
   "execution_count": 39,
   "metadata": {},
   "outputs": [
    {
     "name": "stdout",
     "output_type": "stream",
     "text": [
      "5*x\n"
     ]
    }
   ],
   "source": [
    "f=5*x\n",
    "print(f)"
   ]
  },
  {
   "cell_type": "code",
   "execution_count": 40,
   "metadata": {},
   "outputs": [
    {
     "name": "stdout",
     "output_type": "stream",
     "text": [
      "5*x + 3\n"
     ]
    }
   ],
   "source": [
    "f=5*x+3\n",
    "print(f)"
   ]
  },
  {
   "cell_type": "code",
   "execution_count": 41,
   "metadata": {},
   "outputs": [
    {
     "name": "stdout",
     "output_type": "stream",
     "text": [
      "5*x + 6\n"
     ]
    }
   ],
   "source": [
    "f=5*x+6\n",
    "print(f)"
   ]
  },
  {
   "cell_type": "code",
   "execution_count": 43,
   "metadata": {},
   "outputs": [
    {
     "name": "stdout",
     "output_type": "stream",
     "text": [
      "11\n",
      "5*x + 6\n"
     ]
    }
   ],
   "source": [
    "print(f.substitute(x==1))\n",
    "print(f)"
   ]
  },
  {
   "cell_type": "code",
   "execution_count": null,
   "metadata": {},
   "outputs": [],
   "source": []
  },
  {
   "cell_type": "markdown",
   "metadata": {},
   "source": [
    "### Now try some substitutions for yourself\n",
    "\n",
    "For each problem substitute the value provided for the variable \n",
    "\n",
    "\n",
    "1. Substitute $$ x=1 $$ into $$ (x-1) $$\n",
    "\n",
    "2. Substitute $$ x=2 $$ into $$ (x+2) $$\n",
    "\n",
    "3. Substitute $$ x=2 $$ into $$ 2x $$\n",
    "\n",
    "4. Substitute $$ x=3 $$ into $$ 5x+3 $$\n",
    "\n",
    "5. Substitute $$ x=3 $$ into $$ 2(6x+2) $$\n",
    "\n",
    "\n",
    "\n",
    "\n",
    "\n"
   ]
  },
  {
   "cell_type": "raw",
   "metadata": {},
   "source": [
    "### Function of Two Variables"
   ]
  },
  {
   "cell_type": "code",
   "execution_count": 44,
   "metadata": {},
   "outputs": [
    {
     "name": "stdout",
     "output_type": "stream",
     "text": [
      "5*x + y\n"
     ]
    }
   ],
   "source": [
    "f=5*x+y\n",
    "print(f)"
   ]
  },
  {
   "cell_type": "code",
   "execution_count": 45,
   "metadata": {},
   "outputs": [
    {
     "name": "stdout",
     "output_type": "stream",
     "text": [
      "5*x + 3*y\n"
     ]
    }
   ],
   "source": [
    "f=5*x+3*y\n",
    "print(f)"
   ]
  },
  {
   "cell_type": "code",
   "execution_count": 46,
   "metadata": {},
   "outputs": [
    {
     "name": "stdout",
     "output_type": "stream",
     "text": [
      "5*x + 6*y\n"
     ]
    }
   ],
   "source": [
    "f=5*x+6*y\n",
    "print(f)"
   ]
  },
  {
   "cell_type": "raw",
   "metadata": {},
   "source": [
    "#### Substitutions\n",
    "\n"
   ]
  },
  {
   "cell_type": "code",
   "execution_count": 47,
   "metadata": {},
   "outputs": [
    {
     "name": "stdout",
     "output_type": "stream",
     "text": [
      "y + 5\n"
     ]
    }
   ],
   "source": [
    "f=5*x+y\n",
    "print(f.substitute(x==1))"
   ]
  },
  {
   "cell_type": "raw",
   "metadata": {},
   "source": []
  },
  {
   "cell_type": "code",
   "execution_count": 48,
   "metadata": {},
   "outputs": [
    {
     "name": "stdout",
     "output_type": "stream",
     "text": [
      "6\n"
     ]
    }
   ],
   "source": [
    "print(f.substitute(x==1,y==1))"
   ]
  },
  {
   "cell_type": "code",
   "execution_count": 49,
   "metadata": {},
   "outputs": [
    {
     "name": "stdout",
     "output_type": "stream",
     "text": [
      "11\n"
     ]
    }
   ],
   "source": [
    "f=5*x+6*y\n",
    "print(f.substitute(x==1,y==1))"
   ]
  },
  {
   "cell_type": "code",
   "execution_count": 50,
   "metadata": {},
   "outputs": [
    {
     "name": "stdout",
     "output_type": "stream",
     "text": [
      "17\n"
     ]
    }
   ],
   "source": [
    "print(f.substitute(x==1,y==2))"
   ]
  },
  {
   "cell_type": "raw",
   "metadata": {},
   "source": [
    "## Re-Arranging Expressions"
   ]
  },
  {
   "cell_type": "markdown",
   "metadata": {},
   "source": [
    "## Further Help\n",
    "\n",
    "1. [Math Planet - Algebra1](https://www.mathplanet.com/education/algebra-1)\n",
    "2. [Khan Academy - Algebra Basics](https://www.khanacademy.org/math/algebra-basics)"
   ]
  }
 ],
 "metadata": {
  "kernelspec": {
   "display_name": "SageMath 8.3",
   "language": "",
   "name": "sagemath"
  },
  "language_info": {
   "codemirror_mode": {
    "name": "ipython",
    "version": 2
   },
   "file_extension": ".py",
   "mimetype": "text/x-python",
   "name": "python",
   "nbconvert_exporter": "python",
   "pygments_lexer": "ipython2",
   "version": "2.7.15"
  }
 },
 "nbformat": 4,
 "nbformat_minor": 2
}
