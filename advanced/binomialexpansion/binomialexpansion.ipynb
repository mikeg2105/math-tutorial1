{
 "cells": [
  {
   "cell_type": "markdown",
   "metadata": {},
   "source": [
    "# The Binomial Expansion\n",
    "\n",
    "- Pascal's triangle\n",
    "- Factorial Notation\n",
    "- The Binomial Expansion\n",
    "- Binomial Problem's\n",
    "- Binomial Estimation\n",
    "\n",
    "The binomial theorem or binomial expansion is an expansion of a bionomial expression such as $$ (x+y) $$ to a number of powers as an expansion.\n",
    "\n",
    "Although Isaac Newton is attributed for writing down the generalised binomial theorem, the binomial expansion was discovered much earlier by the Greeks in 400AD. Mathematicians in India, Persia and China.\n",
    "\n",
    "The simplest expansion is the expansion of $$ (x+y)^2 $$ which is $$ x^2+2xy+y^2 $$. The coefficients for each term can be determined from a construction known as the Pascal Triangle. The terms of the expansion can be calculated by calculating the number of ways in which we can select k objects from a set of n objects. We are frequently faced with problems of this nature, it is important to appreciate the complexity of a problem by computing the number of possibilities. This approach is also used in the calculation of probabilities when we want to calculate the probability of the occurence of a given event from a number of different outcomes.\n",
    "\n",
    "In essence the Binomial theorem is a cool method for writing down the terms for really long series which may be challenging to expand."
   ]
  },
  {
   "cell_type": "markdown",
   "metadata": {},
   "source": [
    "## Pascal's Triangle\n",
    "\n",
    "The coefficients for each term of the binomial expansion can be presented in a cosntruction known as Pascal's traingle. To work out these coefficients we expand the power series $$ (a+b)^n $$. Each row of the power series is determined by the coefficients of the expansion for different values of $$ n $$. $$ n=0 $$ corresponds to the top/apex of the triangle, $$ n=1 $$ corresponds to first row, and $$ n=2 $$ correpsonds to the second row and so on..\n",
    "\n",
    "The first row is determined by the coefficients from the expansion:"
   ]
  },
  {
   "cell_type": "code",
   "execution_count": 29,
   "metadata": {},
   "outputs": [
    {
     "data": {
      "text/plain": [
       "a + b"
      ]
     },
     "execution_count": 29,
     "metadata": {},
     "output_type": "execute_result"
    }
   ],
   "source": [
    "a,b=var('a b')\n",
    "expand((a+b)^1)"
   ]
  },
  {
   "cell_type": "markdown",
   "metadata": {},
   "source": [
    "The second row $$ (a+b)^2 $$ is:"
   ]
  },
  {
   "cell_type": "code",
   "execution_count": 30,
   "metadata": {},
   "outputs": [
    {
     "data": {
      "text/plain": [
       "a^2 + 2*a*b + b^2"
      ]
     },
     "execution_count": 30,
     "metadata": {},
     "output_type": "execute_result"
    }
   ],
   "source": [
    "expand((a+b)^2)"
   ]
  },
  {
   "cell_type": "markdown",
   "metadata": {},
   "source": [
    "Now, try and repeat the expansion for a number of different powers."
   ]
  },
  {
   "cell_type": "code",
   "execution_count": 8,
   "metadata": {},
   "outputs": [
    {
     "name": "stdout",
     "output_type": "stream",
     "text": [
      "[1]\n",
      "[a + b]\n",
      "[a^2 + 2*a*b + b^2]\n",
      "[a^3 + 3*a^2*b + 3*a*b^2 + b^3]\n",
      "[a^4 + 4*a^3*b + 6*a^2*b^2 + 4*a*b^3 + b^4]\n",
      "[a^5 + 5*a^4*b + 10*a^3*b^2 + 10*a^2*b^3 + 5*a*b^4 + b^5]\n"
     ]
    }
   ],
   "source": [
    "for n in range(6):\n",
    "    print [expand((a+b)^n)]"
   ]
  },
  {
   "cell_type": "code",
   "execution_count": 23,
   "metadata": {},
   "outputs": [
    {
     "data": {
      "text/plain": [
       "[(2, 5), (3, 1)]"
      ]
     },
     "execution_count": 23,
     "metadata": {},
     "output_type": "execute_result"
    }
   ],
   "source": [
    "list(factor(96))"
   ]
  },
  {
   "cell_type": "markdown",
   "metadata": {},
   "source": [
    "Each line is a row of the Pascal triangle\n",
    "\n",
    "\n",
    "![Animated Pascal's Triangle (from Wikipedia)](https://upload.wikimedia.org/wikipedia/commons/thumb/0/0d/PascalTriangleAnimated2.gif/220px-PascalTriangleAnimated2.gif \"Pascal's Triangle\")"
   ]
  },
  {
   "cell_type": "code",
   "execution_count": 1,
   "metadata": {},
   "outputs": [
    {
     "name": "stdout",
     "output_type": "stream",
     "text": [
      "[1]\n",
      "[1, 1]\n",
      "[1, 2, 1]\n",
      "[1, 3, 3, 1]\n",
      "[1, 4, 6, 4, 1]\n",
      "[1, 5, 10, 10, 5, 1]\n"
     ]
    }
   ],
   "source": [
    "for n in range(6):\n",
    "    print [binomial(n, k) for k in range(n+1)]"
   ]
  },
  {
   "cell_type": "markdown",
   "metadata": {},
   "source": [
    "## Factorial Notation\n",
    "\n",
    "Consider the problem of how we calculate the number of ways of selecting a subset of objects from a larger set. For example how many ways are there of selecting a pair of cards from a hand of 5 cards?\n",
    "\n",
    "When we choose the first card there are 5 possibilities, after that 4 cards are remaining so the total number of possibilities is $$ 5x4 $$. Now since the order in which the cards are selected is not important, when we have selected 2 objects 2  of these are indistinguishable and we should divide our total by that number.\n",
    "\n",
    "This problem can be expressed in a much neater way using the factorial notation.\n",
    "\n",
    "Using factorial notation $$ 5! = 5\\times4\\times3\\times2\\times1 $$\n",
    "\n",
    "Using factorial notation $$ 3! = 3\\times2\\times1 $$\n",
    "\n",
    "So, using the factorial notation the number of ways of selecting 2 cards from a hand of 5 cards can be written as;\n",
    "\n",
    "$$\\frac{1}{2}\\times\\frac{5\\times4\\times3\\times2\\times1}{3\\times2\\times1}$$\n",
    "\n",
    "Using factorial notation this can be written\n",
    "$$ \\frac{1}{2}\\times\\frac{5!}{3!}$$"
   ]
  },
  {
   "cell_type": "code",
   "execution_count": 33,
   "metadata": {},
   "outputs": [
    {
     "name": "stdout",
     "output_type": "stream",
     "text": [
      "10\n"
     ]
    }
   ],
   "source": [
    "print(factorial(5)/(factorial(2)*factorial(3)))"
   ]
  },
  {
   "cell_type": "markdown",
   "metadata": {},
   "source": [
    "The general expression is\n",
    "- The number ways of choosing r items from a group of n items is $$ ^{n}C_{r} = \\frac{n!} {r!(n-r)!}  $$\n",
    "- The rth entry in the nth row of pascal triangle can be found using    $$ ^{n-1}C_{r-1} = \\frac{(n-1)!} {(r-1)!(n-r-2)!}  $$"
   ]
  },
  {
   "cell_type": "code",
   "execution_count": 34,
   "metadata": {},
   "outputs": [
    {
     "name": "stdout",
     "output_type": "stream",
     "text": [
      "('Factorial 6 is:', 720)\n",
      "('The number of ways of choosing 2 items from 6 is:', 15)\n",
      "('The 4th entry in the 7th row:', 20)\n"
     ]
    }
   ],
   "source": [
    "#Calculate 6!\n",
    "print('Factorial 6 is:', 6*5*4*3*2*1)\n",
    "\n",
    "print('The number of ways of choosing 2 items from 6 is:',binomial(6,2))\n",
    "\n",
    "#Calculate the 4th entry in the 7th row of Pascals triangle\n",
    "print('The 4th entry in the 7th row:',binomial(6,3))"
   ]
  },
  {
   "cell_type": "markdown",
   "metadata": {},
   "source": [
    "- calculate $$ 3!$$\n",
    "\n",
    "\n",
    "\n",
    "\n",
    "\n",
    "\n",
    "\n",
    "\n"
   ]
  },
  {
   "cell_type": "code",
   "execution_count": null,
   "metadata": {},
   "outputs": [],
   "source": []
  },
  {
   "cell_type": "markdown",
   "metadata": {},
   "source": [
    "- calculate $$ \\frac{4!}{2!}$$"
   ]
  },
  {
   "cell_type": "code",
   "execution_count": null,
   "metadata": {},
   "outputs": [],
   "source": []
  },
  {
   "cell_type": "markdown",
   "metadata": {},
   "source": [
    "- calculate $$ \\frac{20!}{18!}$$"
   ]
  },
  {
   "cell_type": "code",
   "execution_count": null,
   "metadata": {},
   "outputs": [],
   "source": []
  },
  {
   "cell_type": "markdown",
   "metadata": {},
   "source": [
    "## The Binomial Expansion\n",
    "\n",
    "This is the rule enabling the expansion of brackets, we can use the combinatorical rule to compute the coefficients of the expansion\n",
    "\n",
    "The Binomial expansions is $$ (a+b)^n = a^n+ ^nC_1 a^{(n-1)}b + ^nC_2 a^{(n-2)}b^2+.....+ ^nC_r a^{n-r}b^r  $$\n",
    "In the expansion of $$ (a+b)^n $$ the general term is given by $$ ^nC_r a^{n-r}b^r $$"
   ]
  },
  {
   "cell_type": "markdown",
   "metadata": {},
   "source": [
    "Find the coefficient of $$ x^4 $$ in the binomial expansion of $$ (2+3x)^{10} $$\n",
    "Using the binomial expansion above the coefficient is writtent as"
   ]
  },
  {
   "cell_type": "code",
   "execution_count": 36,
   "metadata": {},
   "outputs": [
    {
     "name": "stdout",
     "output_type": "stream",
     "text": [
      "1088640\n",
      "59049*x^10 + 393660*x^9 + 1180980*x^8 + 2099520*x^7 + 2449440*x^6 + 1959552*x^5 + 1088640*x^4 + 414720*x^3 + 103680*x^2 + 15360*x + 1024\n"
     ]
    }
   ],
   "source": [
    "print(binomial(10,4)*(2^6)*(3^4))\n",
    "\n",
    "print(expand((2+3*x)^10))"
   ]
  },
  {
   "cell_type": "markdown",
   "metadata": {},
   "source": [
    "## Binomial Problems and Estimation\n",
    "\n",
    "Find approximations for complicated functions"
   ]
  },
  {
   "cell_type": "code",
   "execution_count": null,
   "metadata": {},
   "outputs": [],
   "source": []
  },
  {
   "cell_type": "code",
   "execution_count": 20,
   "metadata": {},
   "outputs": [
    {
     "name": "stdout",
     "output_type": "stream",
     "text": [
      "q^5*x^5 + 5*q^4*x^4 + 10*q^3*x^3 + 10*q^2*x^2 + 5*q*x + 1\n",
      "5*q^4\n"
     ]
    }
   ],
   "source": [
    "q,x=var('q x')\n",
    "print(expand((1+q*x)^5))\n",
    "\n",
    "print(binomial(5,4)*q^4)"
   ]
  },
  {
   "cell_type": "markdown",
   "metadata": {},
   "source": [
    "Find the coefficient of $$ x^3 $$ in the bionmial expansion of\n",
    "\n",
    "$$ (3+x)^5 $$\n",
    "\n",
    "$$ (3-2x)^6 $$"
   ]
  },
  {
   "cell_type": "code",
   "execution_count": null,
   "metadata": {},
   "outputs": [],
   "source": []
  },
  {
   "cell_type": "markdown",
   "metadata": {},
   "source": [
    "## Summary\n",
    "\n",
    "1. Pascal triangle - add adjacent pairs of numbers to find numbers on next row\n",
    "2. The (n+1)th row of Pascal's triangle gives the coefficients in the expansion of (a+b)^n\n",
    "3. n!=nx(n-1)x(n-2)x.....x3x2x1.\n",
    "4. The number ways of choosing r items from a group of n items is $$ ^{n}C_{r} = \\frac{n!} {r!(n-r)!}  $$\n",
    "5. The rth entry in the nth row of pascal triangle can be found using    $$ ^{n-1}C_{r-1} = \\frac{(n-1)!} {(r-1)!(n-r-2)!}  $$\n",
    "6. The Binomial expansions is $$ (a+b)^n = a^n+ ^nC_1 a^{(n-1)}b + ^nC_2 a^{(n-2)}b^2+.....+ ^nC_r a^{n-r}b^r  $$\n",
    "7. In the expansion of $$ (a+b)^n $$ the general term is given by $$ ^nC_r a^{n-r}b^r $$\n",
    "8. The first few terms in the binomila expansion can be used to find an approximate value for a complicated expression"
   ]
  },
  {
   "cell_type": "raw",
   "metadata": {},
   "source": []
  }
 ],
 "metadata": {
  "kernelspec": {
   "display_name": "SageMath 8.3",
   "language": "",
   "name": "sagemath"
  },
  "language_info": {
   "codemirror_mode": {
    "name": "ipython",
    "version": 2
   },
   "file_extension": ".py",
   "mimetype": "text/x-python",
   "name": "python",
   "nbconvert_exporter": "python",
   "pygments_lexer": "ipython2",
   "version": "2.7.15"
  }
 },
 "nbformat": 4,
 "nbformat_minor": 2
}
