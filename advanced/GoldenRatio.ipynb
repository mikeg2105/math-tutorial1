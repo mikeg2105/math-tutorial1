{
 "cells": [
  {
   "cell_type": "markdown",
   "metadata": {},
   "source": [
    "The Golden Ratio\n",
    "\n",
    "https://www.goldennumber.net/"
   ]
  },
  {
   "cell_type": "code",
   "execution_count": 1,
   "metadata": {},
   "outputs": [],
   "source": [
    "x=var('x')\n",
    "\n",
    "f(x)=x^2-x-1\n",
    "\n",
    "f1=factor(f(x))"
   ]
  },
  {
   "cell_type": "code",
   "execution_count": 2,
   "metadata": {},
   "outputs": [
    {
     "name": "stdout",
     "output_type": "stream",
     "text": [
      "x^2 - x - 1\n"
     ]
    }
   ],
   "source": [
    "print(f1)"
   ]
  },
  {
   "cell_type": "code",
   "execution_count": 3,
   "metadata": {},
   "outputs": [
    {
     "data": {
      "text/plain": [
       "[x == -1/2*sqrt(5) + 1/2, x == 1/2*sqrt(5) + 1/2]"
      ]
     },
     "execution_count": 3,
     "metadata": {},
     "output_type": "execute_result"
    }
   ],
   "source": [
    "solve(f(x),x)"
   ]
  },
  {
   "cell_type": "code",
   "execution_count": 6,
   "metadata": {},
   "outputs": [],
   "source": [
    "c=(1/2*sqrt(5) + 1/2)"
   ]
  },
  {
   "cell_type": "code",
   "execution_count": 8,
   "metadata": {},
   "outputs": [],
   "source": [
    "phi=N(c)"
   ]
  },
  {
   "cell_type": "code",
   "execution_count": 9,
   "metadata": {},
   "outputs": [
    {
     "name": "stdout",
     "output_type": "stream",
     "text": [
      "1.61803398874989\n"
     ]
    }
   ],
   "source": [
    "print(phi)"
   ]
  },
  {
   "cell_type": "markdown",
   "metadata": {},
   "source": [
    "Radius of earth and moon (km)\n",
    "Sum of earth radius and moon radius"
   ]
  },
  {
   "cell_type": "code",
   "execution_count": 10,
   "metadata": {},
   "outputs": [],
   "source": [
    "re=6378.1\n",
    "rm=1735.97\n",
    "rsem=re+rm"
   ]
  },
  {
   "cell_type": "code",
   "execution_count": 11,
   "metadata": {},
   "outputs": [
    {
     "name": "stdout",
     "output_type": "stream",
     "text": [
      "8114.07000000000\n"
     ]
    }
   ],
   "source": [
    "print(rsem)"
   ]
  },
  {
   "cell_type": "code",
   "execution_count": 17,
   "metadata": {},
   "outputs": [],
   "source": [
    "cem=sqrt((re/re)^2+((re+rm)/re)^2)"
   ]
  },
  {
   "cell_type": "code",
   "execution_count": 18,
   "metadata": {},
   "outputs": [
    {
     "name": "stdout",
     "output_type": "stream",
     "text": [
      "1.61815743119819\n"
     ]
    }
   ],
   "source": [
    "print(cem)"
   ]
  },
  {
   "cell_type": "markdown",
   "metadata": {},
   "source": [
    "mars - deimos"
   ]
  },
  {
   "cell_type": "code",
   "execution_count": 19,
   "metadata": {},
   "outputs": [
    {
     "name": "stdout",
     "output_type": "stream",
     "text": [
      "1.41550757772016\n"
     ]
    }
   ],
   "source": [
    "re=3389.5\n",
    "rm=6.2\n",
    "cem=sqrt((re/re)^2+((re+rm)/re)^2)\n",
    "print(cem)"
   ]
  },
  {
   "cell_type": "markdown",
   "metadata": {},
   "source": [
    "mars - phobos"
   ]
  },
  {
   "cell_type": "code",
   "execution_count": 20,
   "metadata": {},
   "outputs": [
    {
     "name": "stdout",
     "output_type": "stream",
     "text": [
      "1.41656599837978\n"
     ]
    }
   ],
   "source": [
    "re=3389.5\n",
    "rm=11.267\n",
    "cem=sqrt((re/re)^2+((re+rm)/re)^2)\n",
    "print(cem)"
   ]
  },
  {
   "cell_type": "markdown",
   "metadata": {},
   "source": [
    "jupiter-europa"
   ]
  },
  {
   "cell_type": "code",
   "execution_count": 22,
   "metadata": {},
   "outputs": [
    {
     "name": "stdout",
     "output_type": "stream",
     "text": [
      "1.42973632952470\n"
     ]
    }
   ],
   "source": [
    "re=71492\n",
    "rm=1561\n",
    "cem=sqrt((re/re)^2+((re+rm)/re)^2)\n",
    "print(N(cem))"
   ]
  },
  {
   "cell_type": "markdown",
   "metadata": {},
   "source": [
    "jupiter-ganymede"
   ]
  },
  {
   "cell_type": "code",
   "execution_count": 23,
   "metadata": {},
   "outputs": [
    {
     "name": "stdout",
     "output_type": "stream",
     "text": [
      "1.44047109587111\n"
     ]
    }
   ],
   "source": [
    "re=71492\n",
    "rm=2631\n",
    "cem=sqrt((re/re)^2+((re+rm)/re)^2)\n",
    "print(N(cem))"
   ]
  },
  {
   "cell_type": "markdown",
   "metadata": {},
   "source": [
    "saturn-titan"
   ]
  },
  {
   "cell_type": "code",
   "execution_count": 24,
   "metadata": {},
   "outputs": [
    {
     "name": "stdout",
     "output_type": "stream",
     "text": [
      "1.44581639299622\n"
     ]
    }
   ],
   "source": [
    "re=58232\n",
    "rm=2574.73\n",
    "cem=sqrt((re/re)^2+((re+rm)/re)^2)\n",
    "print(N(cem))"
   ]
  },
  {
   "cell_type": "markdown",
   "metadata": {},
   "source": [
    "saturn-"
   ]
  },
  {
   "cell_type": "code",
   "execution_count": null,
   "metadata": {},
   "outputs": [],
   "source": [
    "re=58232\n",
    "rm=2631\n",
    "cem=sqrt((re/re)^2+((re+rm)/re)^2)\n",
    "print(N(cem))"
   ]
  },
  {
   "cell_type": "code",
   "execution_count": null,
   "metadata": {},
   "outputs": [],
   "source": []
  },
  {
   "cell_type": "code",
   "execution_count": null,
   "metadata": {},
   "outputs": [],
   "source": [
    "a=var('a')\n",
    "b=var('b')\n",
    "c=var('c')\n",
    "\n",
    "a=b+c\n",
    "\n",
    "a/b=b/c\n",
    "\n",
    "a=phi*b\n",
    "\n",
    "phi*b=b+c\n",
    "\n",
    "phi=b/c\n",
    "\n",
    "c=b/phi\n",
    "\n",
    "phi*b=b+(b/phi)\n",
    "\n",
    "phi^2*b=phi*b+b\n",
    "\n",
    "phi^2-phi-1=0 #same as quadratic equation solved above"
   ]
  }
 ],
 "metadata": {
  "kernelspec": {
   "display_name": "SageMath 8.7",
   "language": "",
   "name": "sagemath"
  },
  "language_info": {
   "codemirror_mode": {
    "name": "ipython",
    "version": 2
   },
   "file_extension": ".py",
   "mimetype": "text/x-python",
   "name": "python",
   "nbconvert_exporter": "python",
   "pygments_lexer": "ipython2",
   "version": "2.7.15"
  }
 },
 "nbformat": 4,
 "nbformat_minor": 2
}
