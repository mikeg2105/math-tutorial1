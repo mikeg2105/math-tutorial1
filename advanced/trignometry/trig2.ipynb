{
 "cells": [
  {
   "cell_type": "markdown",
   "metadata": {},
   "source": [
    "# Trignometry\n",
    "\n",
    "1. Use the cosine rule and determine missing sides and angles of triangles\n",
    "2. Use the Sine rull to determine the missing side or angle of a triangle\n",
    "3. Determine the area of a triangle\n",
    "4. Solve problems involving triangles\n",
    "5. Sketch graphs of Sine, Cosine and Tangent functions"
   ]
  },
  {
   "cell_type": "code",
   "execution_count": null,
   "metadata": {},
   "outputs": [],
   "source": []
  },
  {
   "cell_type": "markdown",
   "metadata": {},
   "source": [
    "# Historical Background\n",
    "\n",
    "Trignometry is the study of the relationships between the sides and angles of a triangle. The study of trignometry dates back to the 3rd century BC.\n",
    "\n",
    "There are many works describing trignometrical methods. In the 1st century, the Greek mathematician Ptolemy prepared his work known as the Almagest.He used so called chord tables to compute the properties of triangles. Around the 4th century the Indian Surya-Siddhanta, the Aryabhatiya described these works had stanzas for astronomy and methods for surveying. \n",
    "\n",
    "Surveying enables us to use trignometry to measure heights of objects and distances using the rules of trignometry. Consider the triangle below, \n",
    " \n",
    "![alt text](../images/trig-gnomon.jpg \"Trignometry triangle definitions\")\n",
    "\n",
    "The vertical lines ED and E'D' represent the heights of two gnomons. Gnomons are the objects which are used to cast a shadow on a sundial. As an example given the we know the height of the gnomon g and we know the distance (y) from a taller object whos height (x) is unknown, for example a building. Then we can work out the height using the following relation.\n",
    "\n",
    "$$ x= \\frac{yg}{s_{1}} $$\n",
    "\n"
   ]
  },
  {
   "cell_type": "raw",
   "metadata": {},
   "source": []
  },
  {
   "cell_type": "markdown",
   "metadata": {},
   "source": [
    "# Definition\n",
    "\n",
    "Consider the traiangle below\n",
    " \n",
    "![alt text](../images/245px-TrigonometryTriangle.png \"Trignometry triangle definitions\")\n",
    "\n",
    "$$ Sine(A)=\\frac{opposite}{hypotenuse} $$\n",
    "\n",
    "$$ Cosine(A)=\\frac{adjacent}{hypotenuse} $$\n",
    "\n",
    "$$ Tangent(A)=\\frac{opposite}{adjacent} $$\n",
    "\n",
    "SOHCAHTOA\n",
    "\n",
    "\n",
    "![alt text](../images/trig-definitions-1.jpg \"Trignometry triangle definitions\")\n"
   ]
  },
  {
   "cell_type": "raw",
   "metadata": {},
   "source": []
  },
  {
   "cell_type": "markdown",
   "metadata": {},
   "source": [
    "Use the Sine, Cosine or Tangent rule to determine the length of the unknown side, x, of each triangle below. \n",
    "![alt text](../images/trig-1a.jpg \"Logo Title Text 1\")\n",
    "\n",
    "for example for the above triangle the solution is\n",
    "\n",
    "$$x=5 \\times \\tan(23) $$\n",
    "\n"
   ]
  },
  {
   "cell_type": "code",
   "execution_count": 7,
   "metadata": {},
   "outputs": [
    {
     "data": {
      "text/plain": [
       "2.1"
      ]
     },
     "execution_count": 7,
     "metadata": {},
     "output_type": "execute_result"
    }
   ],
   "source": [
    "\n",
    "N(5*tan(23*pi/180),10)  #N means computes the numerical approximation\n",
    "                        #note we multiply the angle in degrees by pi/180 to convert to the unit called radians\n"
   ]
  },
  {
   "cell_type": "markdown",
   "metadata": {},
   "source": [
    "Note in the example above we have converted the angle of 23 degrees in to units called radians.\n",
    "\n",
    "The angle a in degrees is converted into radians using the formula\n",
    "\n",
    "$$ r=\\pi\\frac{a}{180} $$"
   ]
  },
  {
   "cell_type": "markdown",
   "metadata": {},
   "source": [
    "Now determine the length of the unknown side for the remainder of the examples\n",
    "\n",
    "\n",
    "![alt text](../images/trig-1b.jpg \"Logo Title Text 1\")\n",
    "\n",
    "\n"
   ]
  },
  {
   "cell_type": "code",
   "execution_count": null,
   "metadata": {},
   "outputs": [],
   "source": []
  },
  {
   "cell_type": "markdown",
   "metadata": {},
   "source": [
    "![alt text](../images/trig-1c.jpg \"Logo Title Text 1\")\n",
    "\n",
    "\n"
   ]
  },
  {
   "cell_type": "code",
   "execution_count": null,
   "metadata": {},
   "outputs": [],
   "source": []
  },
  {
   "cell_type": "markdown",
   "metadata": {},
   "source": [
    "![alt text](../images/trig-1d.jpg \"Logo Title Text 1\")"
   ]
  },
  {
   "cell_type": "code",
   "execution_count": null,
   "metadata": {},
   "outputs": [],
   "source": []
  },
  {
   "cell_type": "markdown",
   "metadata": {},
   "source": [
    "The cosine rule can be used to determine the length or angle in a triangle if one of these is unknown.\n",
    "\n",
    "Cosine Rule: \n",
    "![alt text](../images/trig-cosrule.jpg \"Logo Title Text 1\")\n",
    "\n",
    "$a^2=b^2+c^2-2bc \\cos(A)$"
   ]
  },
  {
   "cell_type": "raw",
   "metadata": {},
   "source": []
  },
  {
   "cell_type": "markdown",
   "metadata": {},
   "source": [
    "The picture below divides a triangle into two right angle triangles, CAX and CBX.\n",
    "\n",
    "Inline-style: \n",
    "![alt text](../images/trig2.jpg \"Logo Title Text 1\")\n",
    "\n",
    "Reference-style: \n",
    "![alt text][logo]\n",
    "\n",
    "\n",
    "$$h^2+x^2=b^2$$\n",
    "\n",
    "$$ h^2+(c-x)^2=a^2 $$\n",
    "\n",
    "$$ x^2-(c-x)^2=b^2-a^2 $$\n",
    "\n",
    "So $$ 2cx-c^2=b^2-a^2$$\n",
    "\n",
    "$$a^2=b^2+c^2-2cx$$\n",
    "\n",
    "$$x=b\\cos(A)$$\n",
    "\n",
    "therefore\n",
    "$$a^2=b^2+c^2-2bc\\cos(A)$$\n",
    "\n",
    "\n",
    "[logo]: https://github.com/adam-p/markdown-here/raw/master/src/common/images/icon48.png \"Logo Title Text 2\""
   ]
  },
  {
   "cell_type": "raw",
   "metadata": {},
   "source": []
  },
  {
   "cell_type": "markdown",
   "metadata": {},
   "source": [
    "Use the cosine rule to determine the length of the side AB.\n",
    "\n",
    "Inline-style: \n",
    "![alt text](../images/trig-cosrule1.jpg \"Logo Title Text 1\")"
   ]
  },
  {
   "cell_type": "code",
   "execution_count": null,
   "metadata": {},
   "outputs": [],
   "source": []
  },
  {
   "cell_type": "markdown",
   "metadata": {},
   "source": [
    "Use the cosine rule to determine the length of the unknown side of each triangle below\n",
    "\n",
    "Inline-style: \n",
    "![alt text](../images/trig-cosrule-problems1.jpg \"Logo Title Text 1\")"
   ]
  },
  {
   "cell_type": "code",
   "execution_count": null,
   "metadata": {},
   "outputs": [],
   "source": []
  },
  {
   "cell_type": "markdown",
   "metadata": {},
   "source": [
    "Sine Rule: \n",
    "![alt text](../images/trig-cosrule.jpg \"Logo Title Text 1\")"
   ]
  },
  {
   "cell_type": "markdown",
   "metadata": {},
   "source": [
    "$$ \\frac{a}{\\sin(A)}=\\frac{b}{\\sin(B)}=\\frac{c}{\\sin(C)}$$"
   ]
  },
  {
   "cell_type": "markdown",
   "metadata": {},
   "source": [
    "Inline-style: \n",
    "![alt text](../images/trig2.jpg \"Logo Title Text 1\")\n",
    "\n",
    "Using the Sine ratio in triangle CBX\n",
    "$\\sin(B)=\\frac{h}{a}$\n",
    "$h=a\\sin(B)$\n",
    "\n",
    "Using triangle CAX\n",
    "$\\sin(A)=\\frac{h}{b}$\n",
    "$h=b\\sin(A)$\n",
    "\n",
    "So\n",
    "$a \\sin(B)= b \\sin(A)$\n",
    "\n",
    "A similar approach can be used by drwaing a perpendicular from B to the side AC.\n",
    "\n",
    "\n"
   ]
  },
  {
   "cell_type": "raw",
   "metadata": {},
   "source": [
    "![alt text](../images/trig-sinrule-problems1.jpg \"Logo Title Text 1\")"
   ]
  },
  {
   "cell_type": "code",
   "execution_count": null,
   "metadata": {},
   "outputs": [],
   "source": []
  },
  {
   "cell_type": "raw",
   "metadata": {},
   "source": []
  }
 ],
 "metadata": {
  "kernelspec": {
   "display_name": "SageMath 8.7",
   "language": "",
   "name": "sagemath"
  },
  "language_info": {
   "codemirror_mode": {
    "name": "ipython",
    "version": 2
   },
   "file_extension": ".py",
   "mimetype": "text/x-python",
   "name": "python",
   "nbconvert_exporter": "python",
   "pygments_lexer": "ipython2",
   "version": "2.7.15"
  }
 },
 "nbformat": 4,
 "nbformat_minor": 2
}
