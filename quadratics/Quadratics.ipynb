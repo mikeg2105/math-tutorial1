{
 "cells": [
  {
   "cell_type": "markdown",
   "metadata": {},
   "source": [
    "# Quadratics\n",
    "\n",
    "## Objectives\n",
    "\n",
    "1. Solve quadratic equations\n",
    "2. Use f(x) notation for functions\n",
    "3. Draw sketch graphs - identify maxima/minima for quadratic functions\n",
    "4. Calculate discriminant for a quadratic equation\n",
    "5. Modelling using quadratic equations - e.g. motion of projectiles\n"
   ]
  },
  {
   "cell_type": "markdown",
   "metadata": {},
   "source": [
    "## Solve Quadratic Equations\n",
    "\n",
    "Expression for quadratic equation\n",
    "$$ ax^{2} + b \\, x + c =0 $$\n",
    "\n",
    "To solve the above expression we factorise the expression. The individual factors are solved to find values for $$x$$ which are the roots of the quadratic equation.\n",
    "\n",
    "Solve:\n",
    "$$ x^{2} - 2 \\, x -15  =0 $$\n",
    "the\n",
    "Using the solve command with SageMath to solve this expression  the solutions can be determined."
   ]
  },
  {
   "cell_type": "code",
   "execution_count": 9,
   "metadata": {},
   "outputs": [
    {
     "data": {
      "text/plain": [
       "[x == -3, x == 5]"
      ]
     },
     "execution_count": 9,
     "metadata": {},
     "output_type": "execute_result"
    }
   ],
   "source": [
    "solve(x^2-2*x-15,x)"
   ]
  },
  {
   "cell_type": "markdown",
   "metadata": {},
   "source": [
    "From the solution above, the factorised quadratic equation can be written as $$ (x+3) (x-5) $$\n",
    "Multiplying out and expanding this expression gives the original quadratic equation\n",
    "\n",
    "$$ x^{2} - 2 \\, x -15  =0 $$\n",
    "\n",
    "Using the SageMath expand command we can demonstrate that the solutions we determined expand to give our original Quadratic equation"
   ]
  },
  {
   "cell_type": "code",
   "execution_count": 1,
   "metadata": {},
   "outputs": [
    {
     "data": {
      "text/plain": [
       "x^2 - 2*x - 15"
      ]
     },
     "execution_count": 1,
     "metadata": {},
     "output_type": "execute_result"
    }
   ],
   "source": [
    "expand((x+3)*(x-5))"
   ]
  },
  {
   "cell_type": "code",
   "execution_count": 11,
   "metadata": {},
   "outputs": [
    {
     "data": {
      "text/plain": [
       "[x == 0, x == 9]"
      ]
     },
     "execution_count": 11,
     "metadata": {},
     "output_type": "execute_result"
    }
   ],
   "source": [
    "solve(x^2-9*x,x)"
   ]
  },
  {
   "cell_type": "code",
   "execution_count": 12,
   "metadata": {},
   "outputs": [
    {
     "data": {
      "text/plain": [
       "x^2 - 9*x"
      ]
     },
     "execution_count": 12,
     "metadata": {},
     "output_type": "execute_result"
    }
   ],
   "source": [
    "expand(x*(x-9))"
   ]
  },
  {
   "cell_type": "markdown",
   "metadata": {},
   "source": [
    "Consider a quadratic equation of the form\n",
    "$$ (ex+f) (gx+h)=0$$\n",
    "\n",
    "$$e,f,g,h$$ are constants\n",
    "\n",
    "For an equation of this form "
   ]
  },
  {
   "cell_type": "code",
   "execution_count": 13,
   "metadata": {},
   "outputs": [
    {
     "data": {
      "text/plain": [
       "[x == -h/g, x == -f/e]"
      ]
     },
     "execution_count": 13,
     "metadata": {},
     "output_type": "execute_result"
    }
   ],
   "source": [
    "var('e','f','g','h')\n",
    "solve((e*x+f)*(g*x+h),x)"
   ]
  },
  {
   "cell_type": "code",
   "execution_count": 14,
   "metadata": {},
   "outputs": [
    {
     "data": {
      "text/plain": [
       "e*g*x^2 + f*g*x + e*h*x + f*h"
      ]
     },
     "execution_count": 14,
     "metadata": {},
     "output_type": "execute_result"
    }
   ],
   "source": [
    "expand((e*x+f)*(g*x+h))"
   ]
  },
  {
   "cell_type": "markdown",
   "metadata": {},
   "source": [
    "The expanded expression of the form\n",
    "$$ egx^2+(fg+eh)x+fh $$\n",
    "May be written in the factorised form\n",
    "\n",
    "$$(x+\\frac{h}{g})(x+\\frac{f}{e})$$\n",
    "\n",
    "For example solve the expression\n",
    "$$ x^{2} - 5 \\, x +18  =2+3x $$\n",
    "Rearranging  (i.e. subtract 2 and 3x from each side) this the expression becomes\n",
    "$$ x^{2} - 8 \\, x +16  =0 $$\n"
   ]
  },
  {
   "cell_type": "code",
   "execution_count": 18,
   "metadata": {},
   "outputs": [
    {
     "data": {
      "text/plain": [
       "[x == 4]"
      ]
     },
     "execution_count": 18,
     "metadata": {},
     "output_type": "execute_result"
    }
   ],
   "source": [
    "solve(x^2-8*x+16,x)\n"
   ]
  },
  {
   "cell_type": "raw",
   "metadata": {},
   "source": [
    "Note that this expression has a single repeated root."
   ]
  },
  {
   "cell_type": "code",
   "execution_count": 19,
   "metadata": {},
   "outputs": [
    {
     "data": {
      "text/plain": [
       "x^2 - 8*x + 16"
      ]
     },
     "execution_count": 19,
     "metadata": {},
     "output_type": "execute_result"
    }
   ],
   "source": [
    "expand((x-4)^2)"
   ]
  },
  {
   "cell_type": "markdown",
   "metadata": {},
   "source": [
    "Solve the following expressions\n",
    "$$ x^2+3x+2 $$\n",
    "\n",
    "$$ x^2-4x-12 $$\n",
    "\n",
    "$$ x^2=4x  $$\n",
    "\n",
    "$$ 6x^2-5x-6  $$\n",
    "\n",
    "$$  2x^2+7x+3 $$\n",
    "\n",
    "$$ (x-3)^2=13  $$\n",
    "\n",
    "$$  4x^2+17x=6x-2x^2  $$\n",
    "\n",
    "$$  5x^2-10x^2=-7+x+x^2 $$"
   ]
  },
  {
   "cell_type": "code",
   "execution_count": null,
   "metadata": {},
   "outputs": [],
   "source": []
  },
  {
   "cell_type": "markdown",
   "metadata": {},
   "source": [
    "## Functions\n",
    "\n",
    "A function is a mathematical relationship. This relationship maps a set of inputs to a single output. The notation $$ f(x) $$ represents a function of $$ x $$.\n",
    "\n",
    "1. The set of inputs for a function is called the domain.\n",
    "2. The set of outputs of a function is called the range\n",
    "\n",
    "The roots of a function are the values of x for which $$ f(x)=0 $$"
   ]
  },
  {
   "cell_type": "markdown",
   "metadata": {},
   "source": [
    "#### Function of a single variable\n",
    "\n",
    "A function has inputs and outputs. The inputs are fed into the function and mathematical operations are performed on the inputs. These operations then provide the outputs.\n",
    "\n",
    "First consider a for which the output is equal to the input, this would be defined as shown below\n",
    "\n",
    "$$  y=f(x) $$\n",
    "$$ y = x $$\n",
    "\n",
    "we call $f(x)$ the function we have defined another variable, y, which is made equal to the output of our function.\n",
    "Now use sagemath to define \n"
   ]
  },
  {
   "cell_type": "markdown",
   "metadata": {},
   "source": [
    "Consider the functions $$ f(x)=3x-6 $$ and $$ g(x)=x^2-25 $$\n",
    "\n",
    "Compute the value of the functions\n",
    "$$f(2)$$\n",
    "$$f(3)$$\n",
    "$$g(5)$$\n",
    "$$g(6)$$"
   ]
  },
  {
   "cell_type": "code",
   "execution_count": 16,
   "metadata": {},
   "outputs": [
    {
     "name": "stdout",
     "output_type": "stream",
     "text": [
      "0\n",
      "3\n",
      "0\n",
      "11\n"
     ]
    }
   ],
   "source": [
    "var('x')\n",
    "f(x)=3*x-6\n",
    "g(x)=x^2-25\n",
    "\n",
    "print(f(2))\n",
    "print(f(3))\n",
    "\n",
    "print(g(5))\n",
    "print(g(6))"
   ]
  },
  {
   "cell_type": "markdown",
   "metadata": {},
   "source": [
    "Consider the functiona\n",
    "$$f(x)=2x-4 $$\n",
    "$$g(x)=x^2-4 $$\n",
    "Compute the values for \n",
    "1.  f(2)\n",
    "2.  f(3)\n",
    "3.  g(2)\n",
    "4.  g(3)\n",
    "\n",
    "For what values of x are the functions f(x) and g(x) equal"
   ]
  },
  {
   "cell_type": "code",
   "execution_count": null,
   "metadata": {},
   "outputs": [],
   "source": []
  },
  {
   "cell_type": "markdown",
   "metadata": {},
   "source": [
    "## The Quadratic Formula\n",
    "\n",
    "$$  ax^2+bx+c=0 $$\n",
    "\n",
    "$$ x=\\frac{-b\\pm \\sqrt{(b^2-4ac)}}{2a}  $$\n",
    "\n",
    "Use the quadratic formula to solve\n",
    "$$   x^2+3x+1=0 $$"
   ]
  },
  {
   "cell_type": "code",
   "execution_count": 1,
   "metadata": {},
   "outputs": [],
   "source": [
    "x1=(-3+sqrt(3*3-4))/2\n",
    "x2=(-3-sqrt(3*3-4))/2"
   ]
  },
  {
   "cell_type": "code",
   "execution_count": 11,
   "metadata": {},
   "outputs": [
    {
     "data": {
      "text/plain": [
       "-0.3819660112"
      ]
     },
     "execution_count": 11,
     "metadata": {},
     "output_type": "execute_result"
    }
   ],
   "source": [
    "x1\n",
    "#use the .n(digits=numd) notation to evaluate to numd decimal places\n",
    "x1.n(digits=10)\n"
   ]
  },
  {
   "cell_type": "code",
   "execution_count": 12,
   "metadata": {},
   "outputs": [
    {
     "data": {
      "text/plain": [
       "-2.618033989"
      ]
     },
     "execution_count": 12,
     "metadata": {},
     "output_type": "execute_result"
    }
   ],
   "source": [
    "x2\n",
    "x2.n(digits=10)"
   ]
  },
  {
   "cell_type": "code",
   "execution_count": 16,
   "metadata": {},
   "outputs": [
    {
     "data": {
      "text/plain": [
       "0.000000000000"
      ]
     },
     "execution_count": 16,
     "metadata": {},
     "output_type": "execute_result"
    }
   ],
   "source": [
    "def f(x): return x^2+3*x+1\n",
    "f(x1).n(digits=12)\n"
   ]
  },
  {
   "cell_type": "code",
   "execution_count": 17,
   "metadata": {},
   "outputs": [
    {
     "data": {
      "text/plain": [
       "-2.27373675443e-13"
      ]
     },
     "execution_count": 17,
     "metadata": {},
     "output_type": "execute_result"
    }
   ],
   "source": [
    "f(x2).n(digits=12)"
   ]
  },
  {
   "cell_type": "code",
   "execution_count": null,
   "metadata": {},
   "outputs": [],
   "source": []
  },
  {
   "cell_type": "markdown",
   "metadata": {},
   "source": [
    "## Completing the Square\n",
    "\n",
    "For the process called completing the square a quadratic is rewritten in a form in which is the square of one expression plus a constant. For example\n",
    "\n",
    "$$ x^2+bx=(x+\\frac{b}{2})^{2}-{\\frac{b}{2}}^2 $$\n",
    "\n",
    "For example \n",
    "$$ x^2 + 8x $$\n",
    "may be written as\n",
    "$$ (x+4)^2-4^2 $$\n",
    "\n",
    "A quadratic equation in the form\n",
    "$$ e(x+f)^2+g  $$\n",
    "is already in the comlpleted square form\n",
    "\n",
    "$$  ax^2+bx+c=a(x+\\frac{b}{2a})^2+(c-\\frac{b^2}{4a^2}) $$\n",
    "\n",
    "Complete the square for the following\n",
    "$$ x^2+4x  $$\n",
    "\n",
    "$$ 5x^2+20x  $$\n",
    "\n",
    "$$  8x-2x^2 $$"
   ]
  },
  {
   "cell_type": "markdown",
   "metadata": {},
   "source": []
  },
  {
   "cell_type": "code",
   "execution_count": null,
   "metadata": {},
   "outputs": [],
   "source": []
  },
  {
   "cell_type": "markdown",
   "metadata": {},
   "source": [
    "## Quadratic Graphs\n",
    "\n"
   ]
  },
  {
   "cell_type": "code",
   "execution_count": 20,
   "metadata": {},
   "outputs": [
    {
     "data": {
      "image/png": "[encoded data removed]",
      "text/plain": [
       "Graphics object consisting of 1 graphics primitive"
      ]
     },
     "execution_count": 20,
     "metadata": {},
     "output_type": "execute_result"
    }
   ],
   "source": [
    "f(x)=x^2-5*x+4\n",
    "plot(f(x),-12.0,17.0)"
   ]
  },
  {
   "cell_type": "code",
   "execution_count": 23,
   "metadata": {},
   "outputs": [
    {
     "data": {
      "image/png": "[encoded data removed]",
      "text/plain": [
       "Graphics object consisting of 1 graphics primitive"
      ]
     },
     "execution_count": 23,
     "metadata": {},
     "output_type": "execute_result"
    }
   ],
   "source": [
    "f(x)=4*x-2*x^2-5*x-3\n",
    "plot(f(x),-10.0,10.0)"
   ]
  },
  {
   "cell_type": "code",
   "execution_count": 2,
   "metadata": {},
   "outputs": [
    {
     "data": {
      "image/png": "[encoded data removed]",
      "text/plain": [
       "Graphics object consisting of 1 graphics primitive"
      ]
     },
     "execution_count": 2,
     "metadata": {},
     "output_type": "execute_result"
    }
   ],
   "source": [
    "f(x)=6*x^2-5*x+10\n",
    "plot(f(x),-0.2,1.0)"
   ]
  },
  {
   "cell_type": "code",
   "execution_count": null,
   "metadata": {},
   "outputs": [],
   "source": []
  },
  {
   "cell_type": "code",
   "execution_count": 3,
   "metadata": {},
   "outputs": [
    {
     "data": {
      "application/vnd.jupyter.widget-view+json": {
       "model_id": "6032928022e1486e94d10c1f736ea014",
       "version_major": 2,
       "version_minor": 0
      },
      "text/plain": [
       "SW50ZXJhY3RpdmUgZnVuY3Rpb24gPGZ1bmN0aW9uIGcgYXQgMHg2ZmUwODhkZGU2MD4gd2l0aCA1IHdpZGdldHMKICBhOiBTZWxlY3Rpb25TbGlkZXIoZGVzY3JpcHRpb249dSdhJywgb3B0aW/igKY=\n"
      ]
     },
     "metadata": {},
     "output_type": "display_data"
    }
   ],
   "source": [
    "\n",
    "\n",
    "@interact\n",
    "def g(a=(-100..100),b=(-100..100),c=(-100..100),\n",
    "      xinterval=range_slider(-100, 100, 1, default=(-50,50), label=\"x-interval\"),\n",
    "      yinterval=range_slider(-100, 100, 1, default=(-50,50), label=\"y-interval\")):\n",
    "\n",
    "      xmin,xmax = xinterval\n",
    "      ymin,ymax = yinterval\n",
    "      p1   = plot(f,xmin, xmax, thickness=4)\n",
    "      show(p1, ymin=ymin, ymax=ymax, xmin=xmin, xmax=xmax)"
   ]
  },
  {
   "cell_type": "markdown",
   "metadata": {},
   "source": [
    "## The Discriminant\n",
    "\n",
    "The expression $$ b^2 - 4ac $$ in the quadratic expression is called the discriminant\n",
    "\n",
    "The value of the discrimant determines the number of roots, for example:\n",
    "1. $$ b^2 - 4ac > 0 $$ the roots are distinct and real\n",
    "2. $$ b^2 - 4ac = 0 $$ there is one repeated root\n",
    "3. $$ b^2 - 4ac < 0 $$ there are no real roots"
   ]
  },
  {
   "cell_type": "markdown",
   "metadata": {},
   "source": [
    "Experiment with the interactive plot below and use the sliders to modify the parameters a,b and c\n",
    "1. Set a<0, observe the shape of the curve and count the number of roots\n",
    "2. Set a>0, Again observe the shape and count the number of roots\n",
    "3. How many roots are there as a gets closer to 0\n",
    "4. What happens when? $$ b^2-4ac < 0 $$"
   ]
  },
  {
   "cell_type": "code",
   "execution_count": 12,
   "metadata": {},
   "outputs": [
    {
     "data": {
      "application/vnd.jupyter.widget-view+json": {
       "model_id": "2fc8e728781e400f9d7b3aeb858a7262",
       "version_major": 2,
       "version_minor": 0
      },
      "text/plain": [
       "SW50ZXJhY3RpdmUgZnVuY3Rpb24gPGZ1bmN0aW9uIGcgYXQgMHg2ZmUwNzdlOWMwOD4gd2l0aCAzIHdpZGdldHMKICBhOiBTZWxlY3Rpb25TbGlkZXIoZGVzY3JpcHRpb249dSdhJywgb3B0aW/igKY=\n"
      ]
     },
     "metadata": {},
     "output_type": "display_data"
    }
   ],
   "source": [
    "f(x,a,b,c)=a*x*x+b*x+c\n",
    "\n",
    "\n",
    "@interact\n",
    "def g(a=(-10..10),\n",
    "      b=(-10..10),\n",
    "      c=(-10..10)):\n",
    "      h(x)=f(x,a,b,c),\n",
    "      p1   = plot(h,-20, 20, thickness=4)\n",
    "      #p2   = point(x,g(a,b,c))\n",
    "      show(p1, ymin=-20, ymax=20, xmin=-20, xmax=20)"
   ]
  },
  {
   "cell_type": "markdown",
   "metadata": {},
   "source": [
    "The interactive plot below shows how the discriminant varies as we change the value of a. \n",
    "1. a is shown on the x-axis of the plot below\n",
    "2. The value of the discriminant is shown on the y-axis\n",
    "\n",
    "Observe that this is a straight line graph which intersects the y-axis at $$ b^2 $$\n",
    "the gradient of the straight line is $$ -4c $$"
   ]
  },
  {
   "cell_type": "code",
   "execution_count": 11,
   "metadata": {},
   "outputs": [
    {
     "data": {
      "application/vnd.jupyter.widget-view+json": {
       "model_id": "0fb764201fb6404babab3ba671aa2f6f",
       "version_major": 2,
       "version_minor": 0
      },
      "text/plain": [
       "SW50ZXJhY3RpdmUgZnVuY3Rpb24gPGZ1bmN0aW9uIGcgYXQgMHg2ZmUwOTgwNzQxMD4gd2l0aCAyIHdpZGdldHMKICBiOiBTZWxlY3Rpb25TbGlkZXIoZGVzY3JpcHRpb249dSdiJywgb3B0aW/igKY=\n"
      ]
     },
     "metadata": {},
     "output_type": "display_data"
    }
   ],
   "source": [
    "f(a,b,c)=b^2-4*a*c\n",
    "\n",
    "@interact\n",
    "def g(b=(-10..10),\n",
    "      c=(-10..10)):\n",
    "      h(a)=f(a,b,c),\n",
    "      p1   = plot(h,-20, 20, thickness=4)\n",
    "      show(p1, ymin=-20, ymax=20, xmin=-20, xmax=20)"
   ]
  },
  {
   "cell_type": "code",
   "execution_count": null,
   "metadata": {},
   "outputs": [],
   "source": []
  }
 ],
 "metadata": {
  "kernelspec": {
   "display_name": "SageMath 8.7",
   "language": "",
   "name": "sagemath"
  },
  "language_info": {
   "codemirror_mode": {
    "name": "ipython",
    "version": 2
   },
   "file_extension": ".py",
   "mimetype": "text/x-python",
   "name": "python",
   "nbconvert_exporter": "python",
   "pygments_lexer": "ipython2",
   "version": "2.7.15"
  }
 },
 "nbformat": 4,
 "nbformat_minor": 2
}
