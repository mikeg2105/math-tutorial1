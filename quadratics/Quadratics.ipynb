{
 "cells": [
  {
   "cell_type": "markdown",
   "metadata": {},
   "source": [
    "# Quadratics\n",
    "\n",
    "## Objectives\n",
    "\n",
    "1. Solve quadratic equations\n",
    "2. Use f(x) notation for functions\n",
    "3. Draw sketch graphs - identify maxima/minima for quadratic functions\n",
    "4. Calculate discriminant for a quadratic equation\n",
    "5. Modelling using quadratic equations - e.g. motion of projectiles\n"
   ]
  },
  {
   "cell_type": "markdown",
   "metadata": {},
   "source": [
    "## Solve Quadratic Equations\n",
    "\n",
    "Expression for quadratic equation\n",
    "$$ ax^{2} + b \\, x + c =0 $$\n",
    "\n",
    "To solve the above expression we factorise the expression. The individual factors are solved to find values for $$x$$ which are the roots of the quadratic equation.\n",
    "\n",
    "Solve:\n",
    "$$ x^{2} - 2 \\, x -15  =0 $$\n",
    "the\n",
    "Using the solve command with SageMath to solve this expression  the solutions can be determined."
   ]
  },
  {
   "cell_type": "code",
   "execution_count": 9,
   "metadata": {},
   "outputs": [
    {
     "data": {
      "text/plain": [
       "[x == -3, x == 5]"
      ]
     },
     "execution_count": 9,
     "metadata": {},
     "output_type": "execute_result"
    }
   ],
   "source": [
    "solve(x^2-2*x-15,x)"
   ]
  },
  {
   "cell_type": "markdown",
   "metadata": {},
   "source": [
    "Using the SageMath expand command we can demonstrate that the solutions we determined expand to give our original Quadratic equation"
   ]
  },
  {
   "cell_type": "code",
   "execution_count": 10,
   "metadata": {},
   "outputs": [
    {
     "data": {
      "text/plain": [
       "x^2 - 2*x - 15"
      ]
     },
     "execution_count": 10,
     "metadata": {},
     "output_type": "execute_result"
    }
   ],
   "source": [
    "expand((x+3)*(x-5))"
   ]
  },
  {
   "cell_type": "code",
   "execution_count": 11,
   "metadata": {},
   "outputs": [
    {
     "data": {
      "text/plain": [
       "[x == 0, x == 9]"
      ]
     },
     "execution_count": 11,
     "metadata": {},
     "output_type": "execute_result"
    }
   ],
   "source": [
    "solve(x^2-9*x,x)"
   ]
  },
  {
   "cell_type": "code",
   "execution_count": 12,
   "metadata": {},
   "outputs": [
    {
     "data": {
      "text/plain": [
       "x^2 - 9*x"
      ]
     },
     "execution_count": 12,
     "metadata": {},
     "output_type": "execute_result"
    }
   ],
   "source": [
    "expand(x*(x-9))"
   ]
  },
  {
   "cell_type": "markdown",
   "metadata": {},
   "source": [
    "Consider a quadratic equation of the form\n",
    "$$ (ex+f) (gx+h)=0$$\n",
    "\n",
    "$$e,f,g,h$$ are constants\n",
    "\n",
    "For an equation of this form "
   ]
  },
  {
   "cell_type": "code",
   "execution_count": 13,
   "metadata": {},
   "outputs": [
    {
     "data": {
      "text/plain": [
       "[x == -h/g, x == -f/e]"
      ]
     },
     "execution_count": 13,
     "metadata": {},
     "output_type": "execute_result"
    }
   ],
   "source": [
    "var('e','f','g','h')\n",
    "solve((e*x+f)*(g*x+h),x)"
   ]
  },
  {
   "cell_type": "code",
   "execution_count": 14,
   "metadata": {},
   "outputs": [
    {
     "data": {
      "text/plain": [
       "e*g*x^2 + f*g*x + e*h*x + f*h"
      ]
     },
     "execution_count": 14,
     "metadata": {},
     "output_type": "execute_result"
    }
   ],
   "source": [
    "expand((e*x+f)*(g*x+h))"
   ]
  },
  {
   "cell_type": "markdown",
   "metadata": {},
   "source": [
    "The expanded expression of the form\n",
    "$$ egx^2+(fg+eh)x+fh $$\n",
    "May be written in the factorised form\n",
    "\n",
    "$$(x+\\frac{h}{g})(x+\\frac{f}{e})$$\n",
    "\n",
    "For example solve the expression\n",
    "$$ x^{2} - 5 \\, x +18  =2+3x $$\n",
    "Rearranging  (i.e. subtract 2 and 3x from each side) this the expression becomes\n",
    "$$ x^{2} - 8 \\, x +16  =0 $$\n"
   ]
  },
  {
   "cell_type": "code",
   "execution_count": 18,
   "metadata": {},
   "outputs": [
    {
     "data": {
      "text/plain": [
       "[x == 4]"
      ]
     },
     "execution_count": 18,
     "metadata": {},
     "output_type": "execute_result"
    }
   ],
   "source": [
    "solve(x^2-8*x+16,x)\n"
   ]
  },
  {
   "cell_type": "raw",
   "metadata": {},
   "source": [
    "Note that this expression has a single repeated root."
   ]
  },
  {
   "cell_type": "code",
   "execution_count": 19,
   "metadata": {},
   "outputs": [
    {
     "data": {
      "text/plain": [
       "x^2 - 8*x + 16"
      ]
     },
     "execution_count": 19,
     "metadata": {},
     "output_type": "execute_result"
    }
   ],
   "source": [
    "expand((x-4)^2)"
   ]
  },
  {
   "cell_type": "markdown",
   "metadata": {},
   "source": [
    "Solve the following expressions\n",
    "$$ x^2+3x+2 $$\n",
    "\n",
    "$$ x^2-4x-12 $$\n",
    "\n",
    "$$ x^2=4x  $$\n",
    "\n",
    "$$ 6x^2-5x-6  $$\n",
    "\n",
    "$$  2x^2+7x+3 $$\n",
    "\n",
    "$$ (x-3)^2=13  $$\n",
    "\n",
    "$$  4x^2+17x=6x-2x^2  $$\n",
    "\n",
    "$$  5x^2-10x^2=-7+x+x^2 $$"
   ]
  },
  {
   "cell_type": "code",
   "execution_count": null,
   "metadata": {},
   "outputs": [],
   "source": []
  },
  {
   "cell_type": "markdown",
   "metadata": {},
   "source": [
    "## The Quadratic Formula\n",
    "\n",
    "$$  ax^2+bx+c=0 $$\n",
    "\n",
    "$$ x=\\frac{-b\\pm \\sqrt{(b^2-4ac)}}{2a}  $$\n",
    "\n",
    "Use the quadratic formula to solve\n",
    "$$   x^2+3x+1=0 $$"
   ]
  },
  {
   "cell_type": "code",
   "execution_count": 1,
   "metadata": {},
   "outputs": [],
   "source": [
    "x1=(-3+sqrt(3*3-4))/2\n",
    "x2=(-3-sqrt(3*3-4))/2"
   ]
  },
  {
   "cell_type": "code",
   "execution_count": 11,
   "metadata": {},
   "outputs": [
    {
     "data": {
      "text/plain": [
       "-0.3819660112"
      ]
     },
     "execution_count": 11,
     "metadata": {},
     "output_type": "execute_result"
    }
   ],
   "source": [
    "x1\n",
    "#use the .n(digits=numd) notation to evaluate to numd decimal places\n",
    "x1.n(digits=10)\n"
   ]
  },
  {
   "cell_type": "code",
   "execution_count": 12,
   "metadata": {},
   "outputs": [
    {
     "data": {
      "text/plain": [
       "-2.618033989"
      ]
     },
     "execution_count": 12,
     "metadata": {},
     "output_type": "execute_result"
    }
   ],
   "source": [
    "x2\n",
    "x2.n(digits=10)"
   ]
  },
  {
   "cell_type": "code",
   "execution_count": 16,
   "metadata": {},
   "outputs": [
    {
     "data": {
      "text/plain": [
       "0.000000000000"
      ]
     },
     "execution_count": 16,
     "metadata": {},
     "output_type": "execute_result"
    }
   ],
   "source": [
    "def f(x): return x^2+3*x+1\n",
    "f(x1).n(digits=12)\n"
   ]
  },
  {
   "cell_type": "code",
   "execution_count": 17,
   "metadata": {},
   "outputs": [
    {
     "data": {
      "text/plain": [
       "-2.27373675443e-13"
      ]
     },
     "execution_count": 17,
     "metadata": {},
     "output_type": "execute_result"
    }
   ],
   "source": [
    "f(x2).n(digits=12)"
   ]
  },
  {
   "cell_type": "code",
   "execution_count": null,
   "metadata": {},
   "outputs": [],
   "source": []
  },
  {
   "cell_type": "markdown",
   "metadata": {},
   "source": [
    "## Completing the Square\n",
    "\n",
    "For the process called completing the square a quadratic is rewritten in a form in which is the square of one expression plus a constant. For example\n",
    "\n",
    "$$ x^2+bx=(x+\\frac{b}{2})^{2}-{\\frac{b}{2}}^2 $$\n",
    "\n",
    "For example \n",
    "$$ x^2 + 8x $$\n",
    "may be written as\n",
    "$$ (x+4)^2-4^2 $$\n",
    "\n",
    "A quadratic equation in the form\n",
    "$$ e(x+f)^2+g  $$\n",
    "is already in the comlpleted square form\n",
    "\n",
    "$$  ax^2+bx+c=a(x+\\frac{b}{2a})^2+(c-\\frac{b^2}{4a^2}) $$\n",
    "\n",
    "Complete the square for the following\n",
    "$$ x^2+4x  $$\n",
    "\n",
    "$$ 5x^2+20x  $$\n",
    "\n",
    "$$  8x-2x^2 $$"
   ]
  },
  {
   "cell_type": "markdown",
   "metadata": {},
   "source": []
  },
  {
   "cell_type": "code",
   "execution_count": null,
   "metadata": {},
   "outputs": [],
   "source": []
  },
  {
   "cell_type": "markdown",
   "metadata": {},
   "source": [
    "## Functions\n",
    "\n",
    "Mathematical relationship mapping each value in a domain on to a range of values"
   ]
  },
  {
   "cell_type": "markdown",
   "metadata": {},
   "source": []
  },
  {
   "cell_type": "code",
   "execution_count": null,
   "metadata": {},
   "outputs": [],
   "source": []
  },
  {
   "cell_type": "markdown",
   "metadata": {},
   "source": [
    "## Quadratic Graphs\n",
    "\n"
   ]
  },
  {
   "cell_type": "code",
   "execution_count": 20,
   "metadata": {},
   "outputs": [
    {
     "data": {
      "image/png": "[encoded data removed]",
      "text/plain": [
       "Graphics object consisting of 1 graphics primitive"
      ]
     },
     "execution_count": 20,
     "metadata": {},
     "output_type": "execute_result"
    }
   ],
   "source": [
    "f(x)=x^2-5*x+4\n",
    "plot(f(x),-12.0,17.0)"
   ]
  },
  {
   "cell_type": "code",
   "execution_count": 23,
   "metadata": {},
   "outputs": [
    {
     "data": {
      "image/png": "[encoded data removed]",
      "text/plain": [
       "Graphics object consisting of 1 graphics primitive"
      ]
     },
     "execution_count": 23,
     "metadata": {},
     "output_type": "execute_result"
    }
   ],
   "source": [
    "f(x)=4*x-2*x^2-5*x-3\n",
    "plot(f(x),-10.0,10.0)"
   ]
  },
  {
   "cell_type": "code",
   "execution_count": 27,
   "metadata": {},
   "outputs": [
    {
     "data": {
      "image/png": "[encoded data removed]",
      "text/plain": [
       "Graphics object consisting of 1 graphics primitive"
      ]
     },
     "execution_count": 27,
     "metadata": {},
     "output_type": "execute_result"
    }
   ],
   "source": [
    "f(x)=6*x^2-5*x+10\n",
    "plot(f(x),-0.2,1.0)"
   ]
  },
  {
   "cell_type": "code",
   "execution_count": null,
   "metadata": {},
   "outputs": [],
   "source": []
  },
  {
   "cell_type": "code",
   "execution_count": 57,
   "metadata": {},
   "outputs": [
    {
     "data": {
      "application/vnd.jupyter.widget-view+json": {
       "model_id": "8dd6a069cd3743e7a951f19b5597b2ab",
       "version_major": 2,
       "version_minor": 0
      },
      "text/plain": [
       "SW50ZXJhY3RpdmUgZnVuY3Rpb24gPGZ1bmN0aW9uIGcgYXQgMHg3ZjE3M2Q2NjJjZjg+IHdpdGggNSB3aWRnZXRzCiAgYTogU2VsZWN0aW9uU2xpZGVyKGRlc2NyaXB0aW9uPXUnYScsIG9wdGnigKY=\n"
      ]
     },
     "metadata": {},
     "output_type": "display_data"
    }
   ],
   "source": [
    "\n",
    "\n",
    "@interact\n",
    "def g(a=(-100..100),b=(-100..100),c=(-100..100),\n",
    "      xinterval=range_slider(-100, 100, 1, default=(-50,50), label=\"x-interval\"),\n",
    "      yinterval=range_slider(-100, 100, 1, default=(-50,50), label=\"y-interval\")):\n",
    "\n",
    "      xmin,xmax = xinterval\n",
    "      ymin,ymax = yinterval\n",
    "      p1   = plot(f,xmin, xmax, thickness=4)\n",
    "      show(p1, ymin=ymin, ymax=ymax, xmin=xmin, xmax=xmax)"
   ]
  },
  {
   "cell_type": "markdown",
   "metadata": {},
   "source": [
    "## The Discriminant\n",
    "\n",
    "The expression $$ b^2 - 4ac $$ in the quadratic expression is called the discriminant"
   ]
  },
  {
   "cell_type": "code",
   "execution_count": null,
   "metadata": {},
   "outputs": [],
   "source": []
  }
 ],
 "metadata": {
  "kernelspec": {
   "display_name": "SageMath 8.3",
   "language": "",
   "name": "sagemath"
  },
  "language_info": {
   "codemirror_mode": {
    "name": "ipython",
    "version": 2
   },
   "file_extension": ".py",
   "mimetype": "text/x-python",
   "name": "python",
   "nbconvert_exporter": "python",
   "pygments_lexer": "ipython2",
   "version": "2.7.15"
  }
 },
 "nbformat": 4,
 "nbformat_minor": 2
}
