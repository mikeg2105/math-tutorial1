{
 "cells": [
  {
   "cell_type": "markdown",
   "metadata": {},
   "source": [
    "# Trignometry\n",
    "\n",
    "1. Use the cosine rule and determine missing sides and angles of triangles\n",
    "2. Use the Sine rull to determine the missing side or angle of a triangle\n",
    "3. Determine the area of a triangle\n",
    "4. Solve problems involving triangles\n",
    "5. Sketch graphs of Sine, Cosine and Tangent functions"
   ]
  },
  {
   "cell_type": "markdown",
   "metadata": {},
   "source": [
    "# Definition\n",
    "\n",
    "Consider the traiangle below\n",
    " \n",
    "![alt text](../images/245px-TrigonometryTriangle.png \"Trignometry triangle definitions\")\n",
    "\n",
    "$$ Sine(A)=\\frac{opposite}{hypotenuse} $$\n",
    "\n",
    "$$ Cosine(A)=\\frac{adjacent}{hypotenuse} $$\n",
    "\n",
    "$$ Tangent(A)=\\frac{opposite}{adjacent} $$\n",
    "\n",
    "SOHCAHTOA\n",
    "\n",
    "\n",
    "\n"
   ]
  },
  {
   "cell_type": "raw",
   "metadata": {},
   "source": []
  },
  {
   "cell_type": "markdown",
   "metadata": {},
   "source": [
    "Inline-style: \n",
    "![alt text](../images/trig-1a.jpg \"Logo Title Text 1\")\n",
    "\n",
    "Inline-style: \n",
    "![alt text](../images/trig-1b.jpg \"Logo Title Text 1\")\n",
    "\n",
    "Inline-style: \n",
    "![alt text](../images/trig-1c.jpg \"Logo Title Text 1\")\n",
    "\n",
    "Inline-style: \n",
    "![alt text](../images/trig-1d.jpg \"Logo Title Text 1\")"
   ]
  },
  {
   "cell_type": "code",
   "execution_count": null,
   "metadata": {},
   "outputs": [],
   "source": []
  },
  {
   "cell_type": "raw",
   "metadata": {},
   "source": []
  },
  {
   "cell_type": "code",
   "execution_count": null,
   "metadata": {},
   "outputs": [],
   "source": []
  },
  {
   "cell_type": "raw",
   "metadata": {},
   "source": []
  },
  {
   "cell_type": "raw",
   "metadata": {},
   "source": []
  },
  {
   "cell_type": "code",
   "execution_count": null,
   "metadata": {},
   "outputs": [],
   "source": []
  },
  {
   "cell_type": "markdown",
   "metadata": {},
   "source": [
    "Inline-style: \n",
    "![alt text](../images/trig2.jpg \"Logo Title Text 1\")\n",
    "\n",
    "Reference-style: \n",
    "![alt text][logo]\n",
    "\n",
    "[logo]: https://github.com/adam-p/markdown-here/raw/master/src/common/images/icon48.png \"Logo Title Text 2\""
   ]
  },
  {
   "cell_type": "code",
   "execution_count": null,
   "metadata": {},
   "outputs": [],
   "source": []
  }
 ],
 "metadata": {
  "kernelspec": {
   "display_name": "Python 2",
   "language": "python",
   "name": "python2"
  },
  "language_info": {
   "codemirror_mode": {
    "name": "ipython",
    "version": 2
   },
   "file_extension": ".py",
   "mimetype": "text/x-python",
   "name": "python",
   "nbconvert_exporter": "python",
   "pygments_lexer": "ipython2",
   "version": "2.7.15"
  }
 },
 "nbformat": 4,
 "nbformat_minor": 2
}
