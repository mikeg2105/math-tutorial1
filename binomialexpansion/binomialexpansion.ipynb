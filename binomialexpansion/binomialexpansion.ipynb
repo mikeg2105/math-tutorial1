{
 "cells": [
  {
   "cell_type": "markdown",
   "metadata": {},
   "source": [
    "# The Binomial Expansion\n",
    "\n",
    "- Pascal's triangle\n",
    "- Factorial Notation\n",
    "- The Binomial Expansion\n",
    "- Binomial Problem's\n",
    "- Binomial Estimation\n",
    "\n"
   ]
  },
  {
   "cell_type": "markdown",
   "metadata": {},
   "source": [
    "## Pascal's Triangle\n"
   ]
  },
  {
   "cell_type": "code",
   "execution_count": 6,
   "metadata": {},
   "outputs": [
    {
     "data": {
      "text/plain": [
       "a^2 + 2*a*b + b^2"
      ]
     },
     "execution_count": 6,
     "metadata": {},
     "output_type": "execute_result"
    }
   ],
   "source": [
    "a,b=var('a b')\n",
    "expand((a+b)^2)"
   ]
  },
  {
   "cell_type": "code",
   "execution_count": 8,
   "metadata": {},
   "outputs": [
    {
     "name": "stdout",
     "output_type": "stream",
     "text": [
      "[1]\n",
      "[a + b]\n",
      "[a^2 + 2*a*b + b^2]\n",
      "[a^3 + 3*a^2*b + 3*a*b^2 + b^3]\n",
      "[a^4 + 4*a^3*b + 6*a^2*b^2 + 4*a*b^3 + b^4]\n",
      "[a^5 + 5*a^4*b + 10*a^3*b^2 + 10*a^2*b^3 + 5*a*b^4 + b^5]\n"
     ]
    }
   ],
   "source": [
    "for n in range(6):\n",
    "    print [expand((a+b)^n)]"
   ]
  },
  {
   "cell_type": "code",
   "execution_count": 4,
   "metadata": {},
   "outputs": [
    {
     "data": {
      "text/plain": [
       "[(2, 1), (3, 1)]"
      ]
     },
     "execution_count": 4,
     "metadata": {},
     "output_type": "execute_result"
    }
   ],
   "source": [
    "list(factor(6))"
   ]
  },
  {
   "cell_type": "markdown",
   "metadata": {},
   "source": [
    "Each line is a row of the Pascal triangle"
   ]
  },
  {
   "cell_type": "code",
   "execution_count": 1,
   "metadata": {},
   "outputs": [
    {
     "name": "stdout",
     "output_type": "stream",
     "text": [
      "[1]\n",
      "[1, 1]\n",
      "[1, 2, 1]\n",
      "[1, 3, 3, 1]\n",
      "[1, 4, 6, 4, 1]\n",
      "[1, 5, 10, 10, 5, 1]\n"
     ]
    }
   ],
   "source": [
    "for n in range(6):\n",
    "    print [binomial(n, k) for k in range(n+1)]"
   ]
  },
  {
   "cell_type": "markdown",
   "metadata": {},
   "source": [
    "## Factorial Notation\n",
    "\n",
    "Using factorial notation $$ 3! = 3x2x1 $$\n",
    "\n",
    "- The number ways of choosing r items from a group of n items is $$ ^{n}C_{r} = \\frac{n!} {r!(n-r)!}  $$\n",
    "- The rth entry in the nth row of pascal triangle can be found using    $$ ^{n-1}C_{r-1} = \\frac{(n-1)!} {(r-1)!(n-r-2)!}  $$"
   ]
  },
  {
   "cell_type": "code",
   "execution_count": null,
   "metadata": {},
   "outputs": [],
   "source": []
  },
  {
   "cell_type": "code",
   "execution_count": 15,
   "metadata": {},
   "outputs": [
    {
     "name": "stdout",
     "output_type": "stream",
     "text": [
      "('Factorial 6 is:', 720)\n",
      "('The number of ways of choosing 2 items from 6 is:', 15)\n",
      "('The 4th entry in the 7th row:', 20)\n"
     ]
    }
   ],
   "source": [
    "#Calculate 6!\n",
    "print('Factorial 6 is:', 6*5*4*3*2*1)\n",
    "\n",
    "print('The number of ways of choosing 2 items from 6 is:',binomial(6,2))\n",
    "\n",
    "#Calculate the 4th entry in the 7th row of Pascals triangle\n",
    "print('The 4th entry in the 7th row:',binomial(6,3))"
   ]
  },
  {
   "cell_type": "markdown",
   "metadata": {},
   "source": [
    "- calculate $$ 3!$$\n",
    "\n",
    "\n",
    "\n",
    "\n",
    "\n",
    "\n",
    "\n",
    "\n"
   ]
  },
  {
   "cell_type": "code",
   "execution_count": null,
   "metadata": {},
   "outputs": [],
   "source": []
  },
  {
   "cell_type": "markdown",
   "metadata": {},
   "source": [
    "- calculate $$ \\frac{4!}{2!}$$"
   ]
  },
  {
   "cell_type": "code",
   "execution_count": null,
   "metadata": {},
   "outputs": [],
   "source": []
  },
  {
   "cell_type": "markdown",
   "metadata": {},
   "source": [
    "- calculate $$ \\frac{20!}{18!}$$"
   ]
  },
  {
   "cell_type": "code",
   "execution_count": null,
   "metadata": {},
   "outputs": [],
   "source": []
  },
  {
   "cell_type": "markdown",
   "metadata": {},
   "source": [
    "## The Binomial Expansion\n",
    "\n",
    "This is the rule enabling the expansion of brackets, we can use the combinatorical rule to compute the coefficients of the expansion\n",
    "\n",
    "The Binomial expansions is $$ (a+b)^n = a^n+ ^nC_1 a^{(n-1)}b + ^nC_2 a^{(n-2)}b^2+.....+ ^nC_r a^{n-r}b^r  $$\n",
    "In the expansion of $$ (a+b)^n $$ the general term is given by $$ ^nC_r a^{n-r}b^r $$"
   ]
  },
  {
   "cell_type": "code",
   "execution_count": null,
   "metadata": {},
   "outputs": [],
   "source": []
  },
  {
   "cell_type": "markdown",
   "metadata": {},
   "source": [
    "## Binomial Problems and Estimation\n",
    "\n",
    "Find approximations for complicated functions"
   ]
  },
  {
   "cell_type": "code",
   "execution_count": null,
   "metadata": {},
   "outputs": [],
   "source": []
  },
  {
   "cell_type": "code",
   "execution_count": 20,
   "metadata": {},
   "outputs": [
    {
     "name": "stdout",
     "output_type": "stream",
     "text": [
      "q^5*x^5 + 5*q^4*x^4 + 10*q^3*x^3 + 10*q^2*x^2 + 5*q*x + 1\n",
      "5*q^4\n"
     ]
    }
   ],
   "source": [
    "q,x=var('q x')\n",
    "print(expand((1+q*x)^5))\n",
    "\n",
    "print(binomial(5,4)*q^4)"
   ]
  },
  {
   "cell_type": "markdown",
   "metadata": {},
   "source": [
    "Find the coefficient of $$ x^3 $$ in the bionmial expansion of\n",
    "\n",
    "$$ (3+x)^5 $$\n",
    "\n",
    "$$ (3-2x)^6 $$"
   ]
  },
  {
   "cell_type": "code",
   "execution_count": null,
   "metadata": {},
   "outputs": [],
   "source": []
  },
  {
   "cell_type": "markdown",
   "metadata": {},
   "source": [
    "## Summary\n",
    "\n",
    "1. Pascal triangle - add adjacent pairs of numbers to find numbers on next row\n",
    "2. The (n+1)th row of Pascal's triangle gives the coefficients in the expansion of (a+b)^n\n",
    "3. n!=nx(n-1)x(n-2)x.....x3x2x1.\n",
    "4. The number ways of choosing r items from a group of n items is $$ ^{n}C_{r} = \\frac{n!} {r!(n-r)!}  $$\n",
    "5. The rth entry in the nth row of pascal triangle can be found using    $$ ^{n-1}C_{r-1} = \\frac{(n-1)!} {(r-1)!(n-r-2)!}  $$\n",
    "6. The Binomial expansions is $$ (a+b)^n = a^n+ ^nC_1 a^{(n-1)}b + ^nC_2 a^{(n-2)}b^2+.....+ ^nC_r a^{n-r}b^r  $$\n",
    "7. In the expansion of $$ (a+b)^n $$ the general term is given by $$ ^nC_r a^{n-r}b^r $$\n",
    "8. The first few terms in the binomila expansion can be used to find an approximate value for a complicated expression"
   ]
  },
  {
   "cell_type": "raw",
   "metadata": {},
   "source": []
  }
 ],
 "metadata": {
  "kernelspec": {
   "display_name": "SageMath 8.3",
   "language": "",
   "name": "sagemath"
  },
  "language_info": {
   "codemirror_mode": {
    "name": "ipython",
    "version": 2
   },
   "file_extension": ".py",
   "mimetype": "text/x-python",
   "name": "python",
   "nbconvert_exporter": "python",
   "pygments_lexer": "ipython2",
   "version": "2.7.15"
  }
 },
 "nbformat": 4,
 "nbformat_minor": 2
}
