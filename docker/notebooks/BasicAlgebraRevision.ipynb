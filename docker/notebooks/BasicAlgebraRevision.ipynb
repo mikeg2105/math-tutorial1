{
 "cells": [
  {
   "cell_type": "markdown",
   "metadata": {},
   "source": [
    "\n",
    "# Basic Algebra Revision\n",
    "\n",
    "1. Expressions, equations, variables and constants \n",
    "2. Functions\n",
    "2. Substitution\n",
    "3. Re-arranging an expression\n"
   ]
  },
  {
   "cell_type": "markdown",
   "metadata": {},
   "source": [
    "## Expressions, equations, variables and constants\n",
    "\n",
    "An expression is a collection of numbers, letters and symbols such as \n",
    "+,-,* and division.\n",
    "Example expressions are shown below."
   ]
  },
  {
   "cell_type": "markdown",
   "metadata": {},
   "source": [
    "### Addition\n",
    "a plus 5 $$ a + 5 $$\n",
    "### Subtraction\n",
    "a minus 5 $$  a-5 $$ \n",
    "### Multiplication\n",
    "4 times a (note we forgot the times symbol)! $$ 4a $$  \n",
    "### Division\n",
    "a divided by 2 $$ a/2 $$\n",
    "\n",
    "The examples are shown below"
   ]
  },
  {
   "cell_type": "raw",
   "metadata": {},
   "source": [
    "a=var('a')\n",
    "b=var('b')\n",
    "\n",
    "a+5\n",
    "a-5\n",
    "4*a\n",
    "a/2\n",
    "a-b\n",
    "a-x"
   ]
  },
  {
   "cell_type": "markdown",
   "metadata": {},
   "source": [
    "The letters in the above expressions are known as variables. When the expression is written as shown above we do not know\n",
    "what number that letter is equal to. \n",
    "\n",
    "We evaluate an equation when we set a variable to a given value for example"
   ]
  },
  {
   "cell_type": "code",
   "execution_count": 2,
   "metadata": {},
   "outputs": [],
   "source": [
    "a=1\n",
    "b=2"
   ]
  },
  {
   "cell_type": "code",
   "execution_count": 4,
   "metadata": {},
   "outputs": [
    {
     "name": "stdout",
     "output_type": "stream",
     "text": [
      "6\n",
      "-4\n",
      "4\n",
      "1/2\n",
      "-1\n",
      "-x + 1\n"
     ]
    }
   ],
   "source": [
    "print(a+5)\n",
    "print(a-5)\n",
    "print(4*a)\n",
    "print(a/2)\n",
    "print(a-b)\n",
    "print(a-x)"
   ]
  },
  {
   "cell_type": "markdown",
   "metadata": {},
   "source": [
    "We use substitution to replace the letters in the expression with the value given by the equation.\n",
    "\n",
    "An equation has contains an equals sign and has an expression on each side of the sign. Example expressions are shown below."
   ]
  },
  {
   "cell_type": "code",
   "execution_count": 5,
   "metadata": {},
   "outputs": [],
   "source": [
    "b=a+5\n",
    "b=a-x\n",
    "y=5*a-x"
   ]
  },
  {
   "cell_type": "markdown",
   "metadata": {},
   "source": [
    "### Exercise\n",
    "\n",
    "In the examples below which examples are expressions and which examples are equations?\n",
    "1. $$ a+1 $$\n",
    "2. $$ 5*a $$\n",
    "3. $$ a=x+1 $$\n",
    "4. $$ y=x-1 $$\n",
    "5. $$ x+y-5*a $$"
   ]
  },
  {
   "cell_type": "markdown",
   "metadata": {},
   "source": [
    "### Exercise\n",
    "\n",
    "In the examples can you count the number of variables, write each of the variables down?\n",
    "1. $$ a+1 $$\n",
    "2. $$ 5*a $$\n",
    "3. $$ a=x+1 $$\n",
    "4. $$ y=x-1 $$\n",
    "5. $$ x+y-5*a $$"
   ]
  },
  {
   "cell_type": "markdown",
   "metadata": {},
   "source": [
    "## Functions\n",
    "\n",
    "A function is a mathematical expression which when provided with inputs produces an output. We call the inputs the variables. To calculate the value which is output by the we substitute the input values into the expression.\n"
   ]
  },
  {
   "cell_type": "code",
   "execution_count": 6,
   "metadata": {},
   "outputs": [],
   "source": [
    "f(x)=2*x+1\n",
    "g(y)=2*y+1\n",
    "h(x,y)=x+y"
   ]
  },
  {
   "cell_type": "markdown",
   "metadata": {},
   "source": [
    "## Substitution\n",
    "\n",
    "### Function of One Variable\n",
    "\n",
    "Lets try some examples of substituting value into an expression which has one variable. Here, we will use SageMath to compute the result of the substitution\n",
    "\n",
    "First we tell SageMath the variables we are using."
   ]
  },
  {
   "cell_type": "code",
   "execution_count": 7,
   "metadata": {},
   "outputs": [],
   "source": [
    "x=var('x')"
   ]
  },
  {
   "cell_type": "markdown",
   "metadata": {},
   "source": [
    "Define an expression using our newly defined SageMath variable, we give this function the name f"
   ]
  },
  {
   "cell_type": "code",
   "execution_count": 8,
   "metadata": {},
   "outputs": [
    {
     "name": "stdout",
     "output_type": "stream",
     "text": [
      "5*x\n"
     ]
    }
   ],
   "source": [
    "f=5*x\n",
    "print(f)"
   ]
  },
  {
   "cell_type": "code",
   "execution_count": 9,
   "metadata": {},
   "outputs": [
    {
     "name": "stdout",
     "output_type": "stream",
     "text": [
      "5*x + 3\n"
     ]
    }
   ],
   "source": [
    "f=5*x+3\n",
    "print(f)"
   ]
  },
  {
   "cell_type": "code",
   "execution_count": 10,
   "metadata": {},
   "outputs": [
    {
     "name": "stdout",
     "output_type": "stream",
     "text": [
      "5*x + 6\n"
     ]
    }
   ],
   "source": [
    "f=5*x+6\n",
    "print(f)"
   ]
  },
  {
   "cell_type": "markdown",
   "metadata": {},
   "source": [
    "Now we shall actually substitute  a value into our expression. We substitute the value $$ x=1 $$ into the equation\n",
    "$$ f= 5x+6 $$"
   ]
  },
  {
   "cell_type": "markdown",
   "metadata": {},
   "source": [
    "We use the SageMath substitute command note how we use the syntax f.substitute also note the double equal sign (==)"
   ]
  },
  {
   "cell_type": "code",
   "execution_count": 11,
   "metadata": {},
   "outputs": [
    {
     "name": "stdout",
     "output_type": "stream",
     "text": [
      "11\n",
      "5*x + 6\n"
     ]
    }
   ],
   "source": [
    "print(f.substitute(x==1))\n",
    "print(f)"
   ]
  },
  {
   "cell_type": "code",
   "execution_count": 12,
   "metadata": {},
   "outputs": [
    {
     "name": "stdout",
     "output_type": "stream",
     "text": [
      "3\n"
     ]
    }
   ],
   "source": [
    "g(x)=2*x+1\n",
    "print(g(1))"
   ]
  },
  {
   "cell_type": "code",
   "execution_count": null,
   "metadata": {},
   "outputs": [],
   "source": []
  },
  {
   "cell_type": "markdown",
   "metadata": {},
   "source": [
    "### Now try some substitutions for yourself\n",
    "\n",
    "For each problem substitute the value provided for the variable \n",
    "\n",
    "\n",
    "1. Substitute $$ x=1 $$ into $$ (x-1) $$\n",
    "\n",
    "2. Substitute $$ x=2 $$ into $$ (x+2) $$\n",
    "\n",
    "3. Substitute $$ x=2 $$ into $$ 2x $$\n",
    "\n",
    "4. Substitute $$ x=3 $$ into $$ 5x+3 $$\n",
    "\n",
    "5. Substitute $$ x=3 $$ into $$ 2(6x+2) $$\n",
    "\n",
    "\n",
    "\n",
    "\n",
    "\n"
   ]
  },
  {
   "cell_type": "markdown",
   "metadata": {},
   "source": [
    "### Function of Two Variables\n",
    "\n",
    "We can introduce more variables into our equations and expressions. When we use SageMath we use the command var('variablename') to introduce another variable.\n",
    "\n",
    "Note below that we use functions to substitute or input the variables into the expressions."
   ]
  },
  {
   "cell_type": "code",
   "execution_count": 13,
   "metadata": {},
   "outputs": [
    {
     "name": "stdout",
     "output_type": "stream",
     "text": [
      "2\n"
     ]
    }
   ],
   "source": [
    "y=var('y')\n",
    "\n",
    "h(x,y)=x+y\n",
    "print(h(1,1))"
   ]
  },
  {
   "cell_type": "code",
   "execution_count": 14,
   "metadata": {},
   "outputs": [
    {
     "name": "stdout",
     "output_type": "stream",
     "text": [
      "5*x + y\n"
     ]
    }
   ],
   "source": [
    "f(x,y)=5*x+y\n",
    "print(f(x,y))"
   ]
  },
  {
   "cell_type": "code",
   "execution_count": 15,
   "metadata": {},
   "outputs": [
    {
     "name": "stdout",
     "output_type": "stream",
     "text": [
      "5*x + 3*y\n"
     ]
    }
   ],
   "source": [
    "f(x,y)=5*x+3*y\n",
    "print(f(x,y))"
   ]
  },
  {
   "cell_type": "code",
   "execution_count": 16,
   "metadata": {},
   "outputs": [
    {
     "name": "stdout",
     "output_type": "stream",
     "text": [
      "5*x + 6*y\n"
     ]
    }
   ],
   "source": [
    "f(x,y)=5*x+6*y\n",
    "print(f(x,y))"
   ]
  },
  {
   "cell_type": "code",
   "execution_count": 17,
   "metadata": {},
   "outputs": [
    {
     "name": "stdout",
     "output_type": "stream",
     "text": [
      "5*x + 6\n"
     ]
    }
   ],
   "source": [
    "f(x,y)=5*x+6*y\n",
    "print(f(x,1))"
   ]
  },
  {
   "cell_type": "markdown",
   "metadata": {},
   "source": [
    "#### Substitutions with SageMath\n",
    "To substitute values into our expressions we can use the SageMath substitute command note the use of the double equals sign and the use of the f.substitute sysntax."
   ]
  },
  {
   "cell_type": "code",
   "execution_count": 47,
   "metadata": {},
   "outputs": [
    {
     "name": "stdout",
     "output_type": "stream",
     "text": [
      "y + 5\n"
     ]
    }
   ],
   "source": [
    "f=5*x+y\n",
    "print(f.substitute(x==1))"
   ]
  },
  {
   "cell_type": "code",
   "execution_count": 48,
   "metadata": {},
   "outputs": [
    {
     "name": "stdout",
     "output_type": "stream",
     "text": [
      "6\n"
     ]
    }
   ],
   "source": [
    "print(f.substitute(x==1,y==1))"
   ]
  },
  {
   "cell_type": "code",
   "execution_count": 49,
   "metadata": {},
   "outputs": [
    {
     "name": "stdout",
     "output_type": "stream",
     "text": [
      "11\n"
     ]
    }
   ],
   "source": [
    "f=5*x+6*y\n",
    "print(f.substitute(x==1,y==1))"
   ]
  },
  {
   "cell_type": "code",
   "execution_count": 50,
   "metadata": {},
   "outputs": [
    {
     "name": "stdout",
     "output_type": "stream",
     "text": [
      "17\n"
     ]
    }
   ],
   "source": [
    "print(f.substitute(x==1,y==2))"
   ]
  },
  {
   "cell_type": "markdown",
   "metadata": {},
   "source": [
    "#### Exercise\n",
    "\n",
    "Now try some substitutions for yourself. Try the substitutions using pen and paper and also use SageMath.\n",
    "\n",
    "Hint: For each of these problems use the function definition to substitute the values. e.g. \n",
    "$$ f(x,y)=x+y+1 $$\n",
    "to substitute x=1 y=1 use the sage math print command: print(f(1,1)\n",
    "\n",
    "\n",
    "For each problem substitute the value provided for the variable. \n",
    "\n",
    "\n",
    "1. Substitute $$ x=1, y=1 $$ into $$ (x+y-1) $$\n",
    "\n",
    "2. Substitute $$ x=2, y=2 $$ into $$ (x-y+2) $$\n",
    "\n",
    "3. Substitute $$ x=2, y=2 $$ into $$ 2x+y $$\n",
    "\n",
    "4. Substitute $$ x=3, y=1 $$ into $$ 5x+5y+3 $$\n",
    "\n",
    "5. Substitute $$ x=3, y=1 $$ into $$ 5(x+y)+3 $$\n",
    "\n",
    "6. Substitute $$ x=3, y=1 $$ into $$ 2(x+y+3) $$\n",
    "\n",
    "7. Substitute $$ x=3, y=2 $$ into $$ (x+y+3)/y $$"
   ]
  },
  {
   "cell_type": "code",
   "execution_count": null,
   "metadata": {},
   "outputs": [],
   "source": [
    "#Test your substitutions here"
   ]
  },
  {
   "cell_type": "markdown",
   "metadata": {},
   "source": [
    "## Re-Arranging Expressions\n",
    "\n",
    "Balancing an equation\n",
    "\n",
    "What ever you do on the left hand side of an equation you must do on the right\n",
    "\n",
    "Consider the equation\n",
    "$$ x-5 =0 $$\n",
    "\n",
    "What value must x take so that this equation is true, try and guess?\n",
    "\n",
    "The process of finding what value of the variable x makes the equation true is called solving the equation"
   ]
  },
  {
   "cell_type": "markdown",
   "metadata": {},
   "source": [
    "We can use the Sage math solve command to find the solution, note how we use the double equal sign, we also specify that want to determine the value x which solves the equation"
   ]
  },
  {
   "cell_type": "code",
   "execution_count": 12,
   "metadata": {},
   "outputs": [
    {
     "name": "stdout",
     "output_type": "stream",
     "text": [
      "[\n",
      "x == 1\n",
      "]\n"
     ]
    }
   ],
   "source": [
    "print(solve(x-5==0,x))"
   ]
  },
  {
   "cell_type": "markdown",
   "metadata": {},
   "source": [
    "We can also solve this equation by defining a function.\n",
    "We can guess values for x and substitute these into the function we keep on making guesses until our equation\n",
    "$$ x-5=0 $$ is satisfied."
   ]
  },
  {
   "cell_type": "code",
   "execution_count": null,
   "metadata": {},
   "outputs": [],
   "source": [
    "f(x)=x-5\n",
    "print(f(10))\n",
    "print(f(8))\n",
    "print(f(6))\n",
    "print(f(4))"
   ]
  },
  {
   "cell_type": "code",
   "execution_count": null,
   "metadata": {},
   "outputs": [],
   "source": [
    "print(solve(f(x)==0,x))"
   ]
  },
  {
   "cell_type": "markdown",
   "metadata": {},
   "source": [
    "Lets practice with some further examples.\n",
    "As an exercise try finding the solution by defining a function and using substitution to guess the solution"
   ]
  },
  {
   "cell_type": "code",
   "execution_count": 13,
   "metadata": {},
   "outputs": [
    {
     "name": "stdout",
     "output_type": "stream",
     "text": [
      "[\n",
      "x == 2\n",
      "]\n"
     ]
    }
   ],
   "source": [
    "print(solve(x-2==0,x))"
   ]
  },
  {
   "cell_type": "code",
   "execution_count": null,
   "metadata": {},
   "outputs": [],
   "source": []
  },
  {
   "cell_type": "code",
   "execution_count": null,
   "metadata": {},
   "outputs": [],
   "source": [
    "print(solve(2*x==2,x))"
   ]
  },
  {
   "cell_type": "code",
   "execution_count": null,
   "metadata": {},
   "outputs": [],
   "source": [
    "print(solve(2*x==6,x))"
   ]
  },
  {
   "cell_type": "markdown",
   "metadata": {},
   "source": [
    "Lets try someting slightly harder"
   ]
  },
  {
   "cell_type": "code",
   "execution_count": 14,
   "metadata": {},
   "outputs": [
    {
     "name": "stdout",
     "output_type": "stream",
     "text": [
      "[\n",
      "x == 0\n",
      "]\n"
     ]
    }
   ],
   "source": [
    "print(solve(2*x+2==2,x))"
   ]
  },
  {
   "cell_type": "code",
   "execution_count": 10,
   "metadata": {},
   "outputs": [
    {
     "name": "stdout",
     "output_type": "stream",
     "text": [
      "[\n",
      "x == 3\n",
      "]\n"
     ]
    }
   ],
   "source": [
    "f1(x)=5*x+3\n",
    "f2(x)=6*x\n",
    "eq=(f1(x)==f2(x))\n",
    "print(solve(eq,x))"
   ]
  },
  {
   "cell_type": "markdown",
   "metadata": {},
   "source": [
    "### Exercise\n",
    "\n",
    "Go on try the exercise !\n",
    "\n",
    "Write down functions for the equations we have used above, then use substitution to guess the solutions, for example"
   ]
  },
  {
   "cell_type": "code",
   "execution_count": null,
   "metadata": {},
   "outputs": [],
   "source": [
    "f1(x)=5*x+3\n",
    "f2(x)=6*x\n",
    "\n",
    "print(f1(1))\n",
    "print(f2(1))"
   ]
  },
  {
   "cell_type": "markdown",
   "metadata": {},
   "source": [
    "Instead of guessing, a much better way of finding the solution is to rearrange the equation. Here is what we can do.\n",
    "Consider the example above\n",
    "$$ 5x+3=6x $$\n",
    "\n",
    "This equation has a left hand side (LHS) and a right hand side (RHS). Now we can add numbers subtract numbers. We can also multiply and divide each side of the equation by a number.\n",
    "\n",
    "We must obey the rule, whatever we do to the left hand side then we must also do the right hand side. We call this keeping the equation balanced.\n",
    "\n",
    "Consider our example above\n",
    "$$ f2(x)=f1(x) $$\n",
    "$$ f2(x)-5x = f1(x) -5x$$\n",
    "\n",
    "The step above is called re-arranging and if we actually work this out we'd get\n",
    "$$ 5x+3 -5x = 6x - 5x$$\n",
    "\n",
    "Can you work this out?\n",
    "\n"
   ]
  },
  {
   "cell_type": "markdown",
   "metadata": {},
   "source": [
    "Now that we have tried adding quantities to each side of an equation we can also multiply each side of an equation by quantities. Here is an example\n",
    "\n",
    "$$ {{x}\\over{4}}=4 $$\n",
    "\n",
    "First lets try finding the solution by trial and error and by using the SageMath solver."
   ]
  },
  {
   "cell_type": "code",
   "execution_count": 1,
   "metadata": {},
   "outputs": [
    {
     "name": "stdout",
     "output_type": "stream",
     "text": [
      "1/4\n",
      "4\n",
      "1\n",
      "[\n",
      "x == 16\n",
      "]\n"
     ]
    }
   ],
   "source": [
    "f2(x)=x/4\n",
    "\n",
    "print(f2(1))\n",
    "print(f2(16))\n",
    "print(f2(4))\n",
    "\n",
    "print(solve(f2(x)==4,x))"
   ]
  },
  {
   "cell_type": "markdown",
   "metadata": {},
   "source": [
    "Now lets try applying the multiply operation to each side of the equation\n",
    "$$ {{x}\\over{4}}=4 $$\n",
    "Multiply each side of the equation by 4\n",
    "$$ {4 \\times {x}\\over{4}}=4 \\times 4 $$\n",
    "First multiply and divide the left hand side (LHS), this  gives\n",
    "$$ { {x}}=4 \\times 4 $$\n",
    "Now do the multiplication on the right hand side (RHS), this gives\n",
    "$$ x=16 $$\n",
    "Hooray we have solved the equation!"
   ]
  },
  {
   "cell_type": "markdown",
   "metadata": {},
   "source": [
    "#### Exercise\n",
    "\n",
    "Now try some examples, try rearranging the equtions check your solution using substitution and by using the sagemath solver\n",
    "\n",
    "1.    $$  {{x}\\over{8}}= 1  $$\n",
    "2.    $$  {2{x}}= 4  $$ (hint multiply both sides by a half )\n",
    "3.    $$  {2{x}\\over{8}}= 1 $$\n",
    "4.    $$  {{x}\\over{5}}= 5  $$\n",
    "5.    $$  {2{x}\\over{4}}+2= 8 $$ (hint perform a subtraction on each side  and then multiply on each side)"
   ]
  },
  {
   "cell_type": "markdown",
   "metadata": {},
   "source": [
    "As a final example consider the following equation\n",
    "\n",
    "$$  {2{(x+2)}\\over{4}}= 3x+4 $$\n",
    "\n",
    "To solve this multiply both sides by 4\n",
    "$$ 4\\times{2{(x+2)}\\over{4}}= 4 \\times (3x+4) $$\n",
    "Notice here we have introduced brackets when we perform a multiplication we must multiply both items inside the bracket for example\n",
    "$$ 4\\times{2{(x+2)}\\over{4}}= (4\\times 3x+4\\times 4) $$\n",
    "\n",
    "Perform the multiplication\n",
    "$$ {2{(x+2)}}= (12x+16) $$\n",
    "\n",
    "Subtract $$ 12x $$ from each side\n",
    "$$ -10x+4= 16 $$\n",
    "\n",
    "Subtract 4 from each side\n",
    "$$ -10x+4-4= 16-4 $$\n",
    "\n",
    "Gives:\n",
    "$$ -10x= 12 $$\n",
    "\n",
    "Finally, dividing both sides by $$ -10 $$, gives the solution\n",
    "$$ x= -\\frac{6}{5} $$\n",
    "\n",
    "Check the solution by defining a function and subsituting into the equation.\n"
   ]
  },
  {
   "cell_type": "code",
   "execution_count": null,
   "metadata": {},
   "outputs": [],
   "source": [
    "#Try the function definition and substitution here\n",
    "\n",
    "#f(x)=....."
   ]
  },
  {
   "cell_type": "raw",
   "metadata": {},
   "source": [
    "#### Exercise\n",
    "\n",
    "Re arrange the following equations and find the solution, check your solution using SageMath\n",
    "\n",
    "1. $$  {2{(x+1)}}= 4x+2 $$\n",
    "2. $$  3= 2-x $$\n",
    "3. $$  {{(12x+2)}\\over{2}}=  (3x+4) $$\n",
    "4. $$  {{(6x+2)}\\over{2}}=  (4-3x) $$"
   ]
  },
  {
   "cell_type": "code",
   "execution_count": null,
   "metadata": {},
   "outputs": [],
   "source": [
    "#Check your solutions here\n",
    "\n",
    "#f(x)=\n",
    "\n",
    "#print(f(yoursolution))"
   ]
  },
  {
   "cell_type": "markdown",
   "metadata": {},
   "source": [
    "Mathematicians frequently use the term identity... \n",
    "An Identity is an equation which is two expressions on each side of the equal sign. These are frequently used by mathematicians when they prove the truth of the equations which are used."
   ]
  },
  {
   "cell_type": "raw",
   "metadata": {},
   "source": [
    "## Further Help\n",
    "\n",
    "1. [Math Planet - Algebra1](https://www.mathplanet.com/education/algebra-1)\n",
    "2. [Khan Academy - Algebra Basics](https://www.khanacademy.org/math/algebra-basics)"
   ]
  }
 ],
 "metadata": {
  "kernelspec": {
   "display_name": "SageMath 8.3",
   "language": "",
   "name": "sagemath"
  },
  "language_info": {
   "codemirror_mode": {
    "name": "ipython",
    "version": 2
   },
   "file_extension": ".py",
   "mimetype": "text/x-python",
   "name": "python",
   "nbconvert_exporter": "python",
   "pygments_lexer": "ipython2",
   "version": "2.7.15"
  }
 },
 "nbformat": 4,
 "nbformat_minor": 2
}
