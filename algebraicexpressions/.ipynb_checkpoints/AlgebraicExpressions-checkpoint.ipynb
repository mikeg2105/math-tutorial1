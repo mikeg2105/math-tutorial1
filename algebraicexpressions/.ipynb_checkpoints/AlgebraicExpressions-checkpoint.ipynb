{
 "cells": [
  {
   "cell_type": "markdown",
   "metadata": {},
   "source": [
    "# Algebraic Expressions\n",
    "\n",
    "1. Multiply and divide integer powers\n",
    "2. Expand a single term over brackets and collect like terms\n",
    "3. Expand the product of multiple expressions\n",
    "4. Factorise linear, quadratic and cubic expressions\n",
    "5. Knowledge and use of the law of indices\n",
    "6. Simplify and use the rules of surds\n",
    "7. Rationalise denominatorsd\n",
    "\n",
    "\n",
    "\n"
   ]
  },
  {
   "cell_type": "markdown",
   "metadata": {},
   "source": [
    "An important skill for mathematicians is the use of algebra to solve problems and develop models. A basic skill is to be able to manipulate simple expressions.\n",
    "Simplify expressions such as\n",
    "\n",
    "$$ 5x^2y+6x^2y^2+12xy+4x^2y^2-2xy $$\n",
    "\n",
    "or\n",
    "\n",
    "$$ 4ab+2a^2b^2+4b^2+4a^2 $$\n",
    "\n",
    "\n",
    "\n",
    "Understand indices and be able to write the following expressions as a single power\n",
    "\n",
    "$$ 3^3 \\times 3^6 $$\n",
    "\n",
    "or\n",
    "\n",
    "$$(2^2)^3 $$\n",
    "\n",
    "$$ (4^5) \\over (4^2) $$\n"
   ]
  },
  {
   "cell_type": "markdown",
   "metadata": {},
   "source": [
    "Expand expressions such as\n",
    "\n",
    "$$ 2(a+2b) $$\n",
    "or\n",
    "$$ 5(2-2x) $$\n",
    "\n",
    "$$ 4(3x+4y) $$"
   ]
  },
  {
   "cell_type": "markdown",
   "metadata": {},
   "source": [
    "Identify the highest common factors for expressions such as\n",
    "\n",
    " \n",
    "36 and 108 \n",
    "or \n",
    "$$ 6x $$  and $$ 36x^3 $$\n",
    "or \n",
    "$$   12x^2y  $$  and $$  48xy^2 $$\n",
    "\n",
    "Simplify the following\n",
    " \n",
    "$$     15x \\over 3 $$ \n",
    "or \n",
    "$$ 40a \\over 8 $$   \n",
    "\n"
   ]
  },
  {
   "cell_type": "markdown",
   "metadata": {},
   "source": [
    "## Index Laws\n",
    "\n",
    "Simplification of operations involving powers requires the laws of indices. The rules for simplifying powers of the same base is shown below.\n",
    "\n",
    "$$  a^{m} \\times a^{n}=a^{m+n}  $$\n",
    "\n",
    "$$  a^{m} \\div a^{n}=a^{m-n}  $$\n",
    "\n",
    "$$  (a^{m})^{n}=a^{mn}  $$\n",
    "\n",
    "$$  (ab)^{n}=a^{n}b^{n}  $$\n"
   ]
  },
  {
   "cell_type": "markdown",
   "metadata": {},
   "source": [
    "Some example expansions are shown below\n",
    "$$2x^3 3x^7$$\n",
    "\n",
    "$$6\\,x^{10}$$\n",
    "\n",
    "An expansion example\n",
    "\n",
    "\n",
    "$$ 3x(5x+4)-4(3x+4)$$\n",
    "\n",
    "\n",
    "$$15\\,x^2-16$$ \n"
   ]
  },
  {
   "cell_type": "code",
   "execution_count": 1,
   "metadata": {},
   "outputs": [],
   "source": [
    "x=var('x')\n",
    "y=var('y')\n",
    "c=expand((2*x^3)*(3*x^7))"
   ]
  },
  {
   "cell_type": "code",
   "execution_count": 2,
   "metadata": {},
   "outputs": [
    {
     "data": {
      "text/plain": [
       "6*x^10"
      ]
     },
     "execution_count": 2,
     "metadata": {},
     "output_type": "execute_result"
    }
   ],
   "source": [
    "expand(c)\n",
    "c"
   ]
  },
  {
   "cell_type": "code",
   "execution_count": 3,
   "metadata": {},
   "outputs": [
    {
     "data": {
      "text/plain": [
       "a^3 + 3*a^2*b + 3*a*b^2 + b^3"
      ]
     },
     "execution_count": 3,
     "metadata": {},
     "output_type": "execute_result"
    }
   ],
   "source": [
    "a=var('a')\n",
    "b=var('b')\n",
    "(a+b)^3\n",
    "c=expand((a+b)^3)\n",
    "c"
   ]
  },
  {
   "cell_type": "code",
   "execution_count": null,
   "metadata": {},
   "outputs": [],
   "source": []
  }
 ],
 "metadata": {
  "kernelspec": {
   "display_name": "SageMath 8.3",
   "language": "",
   "name": "sagemath"
  },
  "language_info": {
   "codemirror_mode": {
    "name": "ipython",
    "version": 2
   },
   "file_extension": ".py",
   "mimetype": "text/x-python",
   "name": "python",
   "nbconvert_exporter": "python",
   "pygments_lexer": "ipython2",
   "version": "2.7.15"
  }
 },
 "nbformat": 4,
 "nbformat_minor": 2
}
